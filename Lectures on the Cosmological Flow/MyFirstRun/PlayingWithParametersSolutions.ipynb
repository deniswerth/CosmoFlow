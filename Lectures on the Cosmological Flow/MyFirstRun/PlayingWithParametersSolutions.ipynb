{
 "cells": [
  {
   "cell_type": "markdown",
   "id": "425dbe63",
   "metadata": {},
   "source": [
    "# Playing with Parameters (Denis)"
   ]
  },
  {
   "cell_type": "markdown",
   "id": "616115cf",
   "metadata": {},
   "source": [
    "<div class=\"alert alert-block alert-info\"> This notebook illutrates the role of parameters controlling the relative error, time discretisation, and the number massless subhorizon $e$-folds for initialisation. Having a good understanding of these parameters and knowing how to choose them wisely is important for concrete and more complicated scenarios. </div>"
   ]
  },
  {
   "cell_type": "code",
   "execution_count": null,
   "id": "4f4674ac",
   "metadata": {},
   "outputs": [],
   "source": [
    "# Import the standard Python packages\n",
    "import numpy as np\n",
    "import matplotlib.pyplot as plt\n",
    "import matplotlib\n",
    "\n",
    "# For Latex-style labels\n",
    "plt.rc('text', usetex=True)\n",
    "plt.rc('font', family='serif')\n",
    "plt.rc('text.latex', preamble=r\"\\usepackage{bm}\")\n",
    "\n",
    "# Import CosmoFlow modules (they must be located in the same parent folder as this notebook)\n",
    "from Parameters import parameters\n",
    "from Theory import theory\n",
    "from Solver import solver"
   ]
  },
  {
   "cell_type": "code",
   "execution_count": null,
   "id": "4b2e3613",
   "metadata": {},
   "outputs": [],
   "source": [
    "# Define the numerical i\\epsilon prescription\n",
    "def adiabatic(N_load, DeltaN):\n",
    "    return (np.tanh((N_load + DeltaN - 1)/0.1) + 1)/2"
   ]
  },
  {
   "cell_type": "markdown",
   "id": "2f1356b4",
   "metadata": {},
   "source": [
    "## Relative Error"
   ]
  },
  {
   "cell_type": "markdown",
   "id": "62652fe4",
   "metadata": {},
   "source": [
    "<div class=\"alert alert-block alert-info\"> <strong>Task:</strong> Write a function relative_error(Rtol) that takes a single argument that we call Rtol, and outputs the number of $e$-folds array N and the array f where all correlators as function of time are stored. </div>"
   ]
  },
  {
   "cell_type": "code",
   "execution_count": null,
   "id": "173f6adb",
   "metadata": {},
   "outputs": [],
   "source": [
    "def relative_error(Rtol):\n",
    "    n = 10000 # Number of points for the parameter evaluation\n",
    "    N_load = np.linspace(-10, 20, n) # Time grid array in e-folds for the parameters\n",
    "    DeltaN = 4 # Number of e-folds before horizon crossing\n",
    "\n",
    "    # Theory \n",
    "    g_load = 1 * np.ones(n) * adiabatic(N_load, DeltaN) # Cubic coupling constant\n",
    "    H_load = np.ones(n) # Hubble scale\n",
    "\n",
    "    # Load the parameters and define continuous functions\n",
    "    param = parameters(N_load, H_load, g_load) # Load the class parameters\n",
    "    interpolated = param.output() # Define list with continuous parameters\n",
    "\n",
    "    # Numerical parameters\n",
    "    Nspan = np.linspace(-10, 20, 1000) # Time span in e-folds for the numerical integration\n",
    "    Nfield = 1 # Number of fields\n",
    "    Rtol, Atol = Rtol, 1e-180 # Relative and absolute tolerance of the integrator\n",
    "    N_exit = 0 # Horizon exit for a mode\n",
    "    Ni, Nf = N_exit - DeltaN, 10 # Sets initial and final time for integration\n",
    "    N = np.linspace(Ni, Nf, 1000) # Define the time array for output correlators\n",
    "\n",
    "    # Initialise the integrator\n",
    "    theo = theory(N = Nspan, Nfield = Nfield, interpolated = interpolated)\n",
    "    \n",
    "    # Kinematic configuration\n",
    "    k = theo.k_mode(N_exit) # Mode corresponding to N = 0 horizon exit\n",
    "    k1, k2, k3 = k, k, k # Kinematic configuration for 3-pt function (here equilateral)\n",
    "    \n",
    "    # Solve flow equations\n",
    "    s = solver(Nspan = N, Nfield = Nfield, interpolated = interpolated, Rtol = Rtol, Atol = Atol)\n",
    "    f = s.f_solution(k1 = k1, k2 = k2, k3 = k3)\n",
    "    \n",
    "    return N, f"
   ]
  },
  {
   "cell_type": "markdown",
   "id": "1b4ee84b",
   "metadata": {},
   "source": [
    "<div class=\"alert alert-block alert-info\"> <strong>Task:</strong> Write a script that produces a figure showing the three-point correlator (in equilateral kinematic configuration) as function of time, varying Rtol from $10^{-5}$ to $10^{-1}$ with $10$ points. \n",
    "    <ul>\n",
    "    <li>What would be an optimal value for Rtol in this case?</li>\n",
    "    <li>Do you have a simple rough intuition for the subhorizon oscillations when increasing Rtol?</li>\n",
    "  </ul>\n",
    "</div>"
   ]
  },
  {
   "cell_type": "code",
   "execution_count": null,
   "id": "86ed1c24",
   "metadata": {},
   "outputs": [],
   "source": [
    "# Define figure\n",
    "fig = plt.figure(figsize = (10, 4))\n",
    "ax = fig.add_subplot()\n",
    "\n",
    "# Axis limits\n",
    "ax.set_xlim([-3, 10])\n",
    "ax.set_ylim([1e-5, 1e5])\n",
    "\n",
    "# Rtol range (in log scale)\n",
    "Rtol_min = -5\n",
    "Rtol_max = -1\n",
    "Rtol_number = 10\n",
    "Rtol = np.logspace(Rtol_min, Rtol_max, Rtol_number)\n",
    "\n",
    "#Initialize min and max value for Rtol\n",
    "norm = matplotlib.colors.Normalize(vmin = (Rtol_min), vmax = (Rtol_max))\n",
    "#Choose a colormap\n",
    "c_m = matplotlib.cm.coolwarm\n",
    "#Initialize the colorbar\n",
    "s_m = matplotlib.cm.ScalarMappable(cmap = c_m, norm = norm)\n",
    "s_m.set_array([])\n",
    "cb = plt.colorbar(s_m, ax = ax, shrink = 0.8)\n",
    "#Colorbar label with position\n",
    "cb.set_label(\"$\\log_{10}(\\\\Delta_r)$\", y = 1.15, rotation = 0, labelpad = -16, fontsize = 15)\n",
    "\n",
    "# Horizon crossing\n",
    "N_exit = 0\n",
    "ax.axvline(x = N_exit, ls = \"dotted\", color = \"lightgray\")\n",
    "\n",
    "#Loop on Rtol values\n",
    "for i in range(Rtol_number - 1, -1, -1):\n",
    "    N, f = relative_error(Rtol[i])\n",
    "    ax.semilogy(N, np.abs(f[6][0, 0, 0]), color = s_m.to_rgba(np.log10(Rtol[i])), alpha = 0.8, ls = \"-\")\n",
    "\n",
    "# Labels\n",
    "ax.set_xlabel(r\"$N$ $e$-folds\", fontsize = 12)\n",
    "ax.set_ylabel(r\"$\\langle\\varphi_{\\bm{k}_1} \\varphi_{\\bm{k}_2} \\varphi_{\\bm{k}_3}\\rangle'$\", fontsize = 12)"
   ]
  },
  {
   "cell_type": "markdown",
   "id": "ed572005",
   "metadata": {},
   "source": [
    "## Time Discretisation"
   ]
  },
  {
   "cell_type": "markdown",
   "id": "99c57879",
   "metadata": {},
   "source": [
    "<div class=\"alert alert-block alert-info\"> <strong>Task:</strong> Write a function time_discretisation(n_disc, iepsilon) that takes two arguments n_disc and iepsilon, and outputs the number of $e$-folds array N and the array f where all correlators as function of time are stored. The parameter n_disc should allow to change the number of discrete points in the time array N_load, and the Boolean parameter iepsilon (True or False) dictates whether to use the numerical iepsilon prescription or not. </div>"
   ]
  },
  {
   "cell_type": "code",
   "execution_count": null,
   "id": "a54999b6",
   "metadata": {},
   "outputs": [],
   "source": [
    "def time_discretisation(n_disc, iepsilon):\n",
    "    n_disc = int(n_disc)\n",
    "    n = n_disc # Number of points for the parameter evaluation\n",
    "    N_load = np.linspace(-10, 20, n) # Time grid array in e-folds for the parameters\n",
    "    DeltaN = 4 # Number of e-folds before horizon crossing\n",
    "\n",
    "    # Theory \n",
    "    if iepsilon:\n",
    "        g_load = 1 * np.ones(n) * adiabatic(N_load, DeltaN) # Cubic coupling constant\n",
    "        H_load = np.ones(n) # Hubble scale\n",
    "    else: # Without iepsilon prescription\n",
    "        g_load = 1 * np.ones(n)\n",
    "        H_load = np.ones(n)\n",
    "\n",
    "    # Load the parameters and define continuous functions\n",
    "    param = parameters(N_load, H_load, g_load) # Load the class parameters\n",
    "    interpolated = param.output() # Define list with continuous parameters\n",
    "\n",
    "    # Numerical parameters\n",
    "    Nspan = np.linspace(-10, 20, 1000) # Time span in e-folds for the numerical integration\n",
    "    Nfield = 1 # Number of fields\n",
    "    Rtol, Atol = 1e-3, 1e-180 # Relative and absolute tolerance of the integrator\n",
    "    N_exit = 0 # Horizon exit for a mode\n",
    "    Ni, Nf = N_exit - DeltaN, 10 # Sets initial and final time for integration\n",
    "    N = np.linspace(Ni, Nf, 1000) # Define the time array for output correlators\n",
    "\n",
    "    # Initialise the integrator\n",
    "    theo = theory(N = Nspan, Nfield = Nfield, interpolated = interpolated)\n",
    "    \n",
    "    # Kinematic configuration\n",
    "    k = theo.k_mode(N_exit) # Mode corresponding to N = 0 horizon exit\n",
    "    k1, k2, k3 = k, k, k # Kinematic configuration for 3-pt function (here equilateral)\n",
    "    \n",
    "    # Solve flow equations\n",
    "    s = solver(Nspan = N, Nfield = Nfield, interpolated = interpolated, Rtol = Rtol, Atol = Atol)\n",
    "    f = s.f_solution(k1 = k1, k2 = k2, k3 = k3)\n",
    "    \n",
    "    return N, f"
   ]
  },
  {
   "cell_type": "markdown",
   "id": "8078513b",
   "metadata": {},
   "source": [
    "<div class=\"alert alert-block alert-info\"> <strong>Task:</strong> Write a script that produces a figure showing the three-point correlator (in equilateral kinematic configuration) as function of time, varying n_disc from $10$ to $10^{4}$ with $10$ points with the iepsilon prescription, and without. \n",
    "    <ul>\n",
    "    <li>What would be an optimal value for n_disc in this case?</li>\n",
    "    <li>For this optimal value, what do you notice when there is no iepsilon prescription?</li>\n",
    "  </ul>\n",
    "</div>"
   ]
  },
  {
   "cell_type": "code",
   "execution_count": null,
   "id": "78d881a0",
   "metadata": {},
   "outputs": [],
   "source": [
    "# Define figure\n",
    "fig = plt.figure(figsize = (10, 4))\n",
    "ax = fig.add_subplot()\n",
    "\n",
    "# Axis limits\n",
    "ax.set_xlim([-3, 10])\n",
    "ax.set_ylim([1e-5, 1e5])\n",
    "\n",
    "# n_disc range (in log scale)\n",
    "n_disc_min = 1\n",
    "n_disc_max = 4\n",
    "n_disc_number = 10\n",
    "n_disc = np.logspace(n_disc_min, n_disc_max, n_disc_number)\n",
    "\n",
    "#Initialize min and max value for Rtol\n",
    "norm = matplotlib.colors.Normalize(vmin = n_disc_min, vmax = n_disc_max)\n",
    "#Choose a colormap\n",
    "c_m = matplotlib.cm.coolwarm\n",
    "#Initialize the colorbar\n",
    "s_m = matplotlib.cm.ScalarMappable(cmap = c_m, norm = norm)\n",
    "s_m.set_array([])\n",
    "cb = plt.colorbar(s_m, ax = ax, shrink = 0.8)\n",
    "#Colorbar label with position\n",
    "cb.set_label(\"$\\log_{10}(n_{\\mathrm{disc}})$\", y = 1.15, rotation = 0, labelpad = 0, fontsize = 15)\n",
    "\n",
    "# Horizon crossing\n",
    "N_exit = 0\n",
    "ax.axvline(x = N_exit, ls = \"dotted\", color = \"lightgray\")\n",
    "\n",
    "#Loop on n_disc values\n",
    "for i in range(n_disc_number):\n",
    "    N, f = time_discretisation(n_disc[i], iepsilon = True)\n",
    "    ax.semilogy(N, np.abs(f[6][0, 0, 0]), color = s_m.to_rgba(np.log10(n_disc[i])), alpha = 0.8, ls = \"-\")\n",
    "    \n",
    "N_ieps, f_ieps = time_discretisation(10000, iepsilon = True)\n",
    "N_noieps, f_noieps = time_discretisation(10000, iepsilon = False)\n",
    "ax.semilogy(N, np.abs(f_ieps[6][0, 0, 0]), color = \"k\", alpha = 0.6, ls = \"dotted\", label = \"with $i\\epsilon$\")\n",
    "ax.semilogy(N, np.abs(f_noieps[6][0, 0, 0]), color = \"k\", alpha = 0.6, ls = \"--\", label = \"without $i\\epsilon$\")\n",
    "\n",
    "# Labels\n",
    "ax.set_xlabel(r\"$N$ $e$-folds\", fontsize = 12)\n",
    "ax.set_ylabel(r\"$\\langle\\varphi_{\\bm{k}_1} \\varphi_{\\bm{k}_2} \\varphi_{\\bm{k}_3}\\rangle'$\", fontsize = 12)\n",
    "ax.legend(ncol = 2, loc = 1)"
   ]
  },
  {
   "cell_type": "markdown",
   "id": "b0f36c57",
   "metadata": {},
   "source": [
    "## Massless Subhorizon e-folds"
   ]
  },
  {
   "cell_type": "markdown",
   "id": "74f99ae0",
   "metadata": {},
   "source": [
    "<div class=\"alert alert-block alert-info\"> <strong>Task:</strong> Write a function massless_efolds(DeltaN) that takes a single argument DeltaN, and outputs the number of $e$-folds array N and the array f where all correlators as function of time are stored. The parameter DeltaN should allow to change the number of subhorizon $e$-folds. </div>"
   ]
  },
  {
   "cell_type": "code",
   "execution_count": null,
   "id": "c56e2b3c",
   "metadata": {},
   "outputs": [],
   "source": [
    "def massless_efolds(DeltaN):\n",
    "    n = 10000 # Number of points for the parameter evaluation\n",
    "    N_load = np.linspace(-10, 20, n) # Time grid array in e-folds for the parameters\n",
    "\n",
    "    # Theory \n",
    "    g_load = 1 * np.ones(n) * adiabatic(N_load, DeltaN) # Cubic coupling constant\n",
    "    H_load = np.ones(n) # Hubble scale\n",
    "\n",
    "    # Load the parameters and define continuous functions\n",
    "    param = parameters(N_load, H_load, g_load) # Load the class parameters\n",
    "    interpolated = param.output() # Define list with continuous parameters\n",
    "\n",
    "    # Numerical parameters\n",
    "    Nspan = np.linspace(-10, 20, 1000) # Time span in e-folds for the numerical integration\n",
    "    Nfield = 1 # Number of fields\n",
    "    Rtol, Atol = 1e-3, 1e-180 # Relative and absolute tolerance of the integrator\n",
    "    N_exit = 0 # Horizon exit for a mode\n",
    "    Ni, Nf = N_exit - DeltaN, 10 # Sets initial and final time for integration\n",
    "    N = np.linspace(Ni, Nf, 1000) # Define the time array for output correlators\n",
    "\n",
    "    # Initialise the integrator\n",
    "    theo = theory(N = Nspan, Nfield = Nfield, interpolated = interpolated)\n",
    "    \n",
    "    # Kinematic configuration\n",
    "    k = theo.k_mode(N_exit) # Mode corresponding to N = 0 horizon exit\n",
    "    k1, k2, k3 = k, k, k # Kinematic configuration for 3-pt function (here equilateral)\n",
    "    \n",
    "    # Solve flow equations\n",
    "    s = solver(Nspan = N, Nfield = Nfield, interpolated = interpolated, Rtol = Rtol, Atol = Atol)\n",
    "    f = s.f_solution(k1 = k1, k2 = k2, k3 = k3)\n",
    "    \n",
    "    return N, f"
   ]
  },
  {
   "cell_type": "markdown",
   "id": "e20297e9",
   "metadata": {},
   "source": [
    "<div class=\"alert alert-block alert-info\"> <strong>Task:</strong> Write a script that produces a figure showing the three-point correlator (in equilateral kinematic configuration) as function of time, varying DeltaN from $1$ to $5$ with $10$ points. \n",
    "    <ul>\n",
    "    <li>What would be an optimal value for DeltaN in this case?</li>\n",
    "    <li>What do you notice when DeltaN is too large?</li>\n",
    "  </ul>\n",
    "</div>"
   ]
  },
  {
   "cell_type": "code",
   "execution_count": null,
   "id": "bfe77a6d",
   "metadata": {},
   "outputs": [],
   "source": [
    "# Define figure\n",
    "fig = plt.figure(figsize = (10, 4))\n",
    "ax = fig.add_subplot()\n",
    "\n",
    "# Axis limits\n",
    "ax.set_xlim([-5, 10])\n",
    "ax.set_ylim([1e-8, 1e8])\n",
    "\n",
    "# n_disc range\n",
    "DeltaN_min = 1\n",
    "DeltaN_max = 5\n",
    "DeltaN_number = 10\n",
    "DeltaN = np.linspace(DeltaN_min, DeltaN_max, DeltaN_number)\n",
    "\n",
    "#Initialize min and max value for Rtol\n",
    "norm = matplotlib.colors.Normalize(vmin = DeltaN_min, vmax = DeltaN_max)\n",
    "#Choose a colormap\n",
    "c_m = matplotlib.cm.coolwarm\n",
    "#Initialize the colorbar\n",
    "s_m = matplotlib.cm.ScalarMappable(cmap = c_m, norm = norm)\n",
    "s_m.set_array([])\n",
    "cb = plt.colorbar(s_m, ax = ax, shrink = 0.8)\n",
    "#Colorbar label with position\n",
    "cb.set_label(\"$\\Delta N$\", y = 1.15, rotation = 0, labelpad = -16, fontsize = 15)\n",
    "\n",
    "# Horizon crossing\n",
    "N_exit = 0\n",
    "ax.axvline(x = N_exit, ls = \"dotted\", color = \"lightgray\")\n",
    "\n",
    "#Loop on DeltaN values\n",
    "for i in range(DeltaN_number):\n",
    "    N, f = massless_efolds(DeltaN[i])\n",
    "    ax.semilogy(N, np.abs(f[6][0, 0, 0]), color = s_m.to_rgba(DeltaN[i]), alpha = 0.8, ls = \"-\")\n",
    "\n",
    "\n",
    "# Labels\n",
    "ax.set_xlabel(r\"$N$ $e$-folds\", fontsize = 12)\n",
    "ax.set_ylabel(r\"$\\langle\\varphi_{\\bm{k}_1} \\varphi_{\\bm{k}_2} \\varphi_{\\bm{k}_3}\\rangle'$\", fontsize = 12)"
   ]
  },
  {
   "cell_type": "code",
   "execution_count": null,
   "id": "3354b4ec",
   "metadata": {},
   "outputs": [],
   "source": []
  }
 ],
 "metadata": {
  "kernelspec": {
   "display_name": "Python 3 (ipykernel)",
   "language": "python",
   "name": "python3"
  },
  "language_info": {
   "codemirror_mode": {
    "name": "ipython",
    "version": 3
   },
   "file_extension": ".py",
   "mimetype": "text/x-python",
   "name": "python",
   "nbconvert_exporter": "python",
   "pygments_lexer": "ipython3",
   "version": "3.9.7"
  }
 },
 "nbformat": 4,
 "nbformat_minor": 5
}
