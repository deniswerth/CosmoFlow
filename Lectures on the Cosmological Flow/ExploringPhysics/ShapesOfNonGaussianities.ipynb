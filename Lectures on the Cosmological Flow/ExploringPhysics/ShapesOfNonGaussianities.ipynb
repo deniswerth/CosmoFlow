{
 "cells": [
  {
   "cell_type": "markdown",
   "id": "f09da562",
   "metadata": {},
   "source": [
    "# Shapes of non-Gaussianities"
   ]
  },
  {
   "cell_type": "markdown",
   "id": "e3b40c17",
   "metadata": {},
   "source": [
    "<div class=\"alert alert-block alert-info\"> In this notebook, you will learn how to produce the usual 3D shape figures describing the bispectrum shape. We will also (re-)discover the cosmological low-speed collider signal, which takes the form of a resonance in mildly-soft kinematic configurations. </div>"
   ]
  },
  {
   "cell_type": "code",
   "execution_count": 1,
   "id": "3c6c75b5",
   "metadata": {},
   "outputs": [],
   "source": [
    "# Import the standard Python packages\n",
    "import numpy as np\n",
    "import matplotlib.pyplot as plt\n",
    "from tqdm import tqdm\n",
    "\n",
    "# For Latex-style labels\n",
    "plt.rc('text', usetex=True)\n",
    "plt.rc('font', family='serif')\n",
    "plt.rc('text.latex', preamble=r\"\\usepackage{bm}\")\n",
    "\n",
    "# Import CosmoFlow modules (they must be located in the same parent folder as this notebook)\n",
    "from Parameters import parameters\n",
    "from Theory import theory\n",
    "from Solver import solver"
   ]
  },
  {
   "cell_type": "code",
   "execution_count": 2,
   "id": "4919d5af",
   "metadata": {},
   "outputs": [],
   "source": [
    "# Define the numerical i\\epsilon prescription\n",
    "def adiabatic(N_load, DeltaN, N_exit):\n",
    "    return (np.tanh((N_load - N_exit + DeltaN - 0.5)/0.1) + 1)/2"
   ]
  },
  {
   "cell_type": "markdown",
   "id": "da3d5de8",
   "metadata": {},
   "source": [
    "<div class=\"alert alert-block alert-info\"> <strong>Task:</strong> Understand the following script and execute it. </div>"
   ]
  },
  {
   "cell_type": "code",
   "execution_count": null,
   "id": "79900d10",
   "metadata": {},
   "outputs": [],
   "source": [
    "def Shape(X, Y, cs, m, rho):\n",
    "    n = 10000 # Number of points for the parameter evaluation\n",
    "    N_load = np.linspace(-15, 20, n) # Time grid array in e-folds for the parameters\n",
    "    DeltaN = 4.5 # Number of e-folds before horizon crossing\n",
    "    \n",
    "    k = 1 # Mode corresponding to N = 0 horizon exit\n",
    "    k1, k2, k3 = X*k, Y*k, k # Kinematic configuration for 3-pt function\n",
    "    N_exit = np.log(np.min([k1, k2, k3])) # Horizon exit for a mode\n",
    "    \n",
    "    # Theory \n",
    "    H_load = np.ones(n) # Hubble scale\n",
    "    cs_load = cs * np.ones(n) # Speed of sound for phi\n",
    "    m_load = m * np.ones(n) # Mass of Psi\n",
    "    rho_load = rho * np.ones(n) * adiabatic(N_load, DeltaN, N_exit) # Linear mixing strength\n",
    "    g_load = 1 * np.ones(n) * adiabatic(N_load, DeltaN, N_exit) # Cubic coupling\n",
    "    \n",
    "    # Load the parameters and define continuous functions\n",
    "    param = parameters(N_load, H_load, cs_load, m_load, rho_load, g_load) # Load the class parameters\n",
    "    interpolated = param.output() # Define list with continuous parameters\n",
    "    \n",
    "    # Numerical parameters\n",
    "    Nspan = np.linspace(-10, 20, 1000) # Time span in e-folds for the numerical integration\n",
    "    Nfield = 2 # Number of fields\n",
    "    Rtol, Atol = 1e-3, 1e-20 # Relative and absolute tolerance of the integrator\n",
    "    Ni, Nf = N_exit - DeltaN, 20 # Sets initial and final time for integration\n",
    "    N = np.linspace(Ni, Nf, 1000) # Define the time array for output correlators\n",
    "\n",
    "    # Initialise the integrator\n",
    "    theo = theory(N = Nspan, Nfield = Nfield, interpolated = interpolated)\n",
    "    \n",
    "    s = solver(Nspan = N, Nfield = Nfield, interpolated = interpolated, Rtol = Rtol, Atol = Atol)\n",
    "    f = s.f_solution(k1 = k1, k2 = k2, k3 = k3)\n",
    "    \n",
    "    three_pt = f[6][0, 0, 0][-1]\n",
    "    return (k1*k2*k3)**2 * three_pt # Equivalent to shape function"
   ]
  },
  {
   "cell_type": "markdown",
   "id": "b492368f",
   "metadata": {},
   "source": [
    "<div class=\"alert alert-block alert-info\"> <strong>Task:</strong> Execute the following script. Caution, it can take a few minutes. </div>"
   ]
  },
  {
   "cell_type": "code",
   "execution_count": null,
   "id": "9e29ea90",
   "metadata": {},
   "outputs": [],
   "source": [
    "from joblib import Parallel, delayed # Needed for parallelisation\n",
    "import time # Record the running time\n",
    "\n",
    "n = 20\n",
    "\n",
    "# Define the triangle\n",
    "left_point = np.array([0.5, 0.5])\n",
    "right_point = np.array([1, 1])\n",
    "top_point = np.array([0.02, 1]) # Specify the softer configuration\n",
    "left_m = (top_point[-1] - left_point[-1]) / (top_point[0] - left_point[0])\n",
    "left_c = 1\n",
    "right_m = (right_point[-1] - left_point[-1]) / (right_point[0] - left_point[0])\n",
    "right_c = left_point[0] - right_m*left_point[0]\n",
    "X_left = np.linspace(left_point[0], top_point[0], n)\n",
    "Y_left = left_m * X_left + left_c\n",
    "X_right = np.linspace(left_point[0], right_point[-1], n)\n",
    "Y_right = right_m * X_right + right_c\n",
    "LR_X = np.hstack([X_left[:, None], X_right[:, None]])\n",
    "XX = np.meshgrid(np.linspace(LR_X[:, 0], LR_X[:, 1], n))[0].reshape(n, n) # k1/k3\n",
    "YY = np.meshgrid([Y_left*np.ones(n)]*n)[0].reshape(n, n) # k2/k3\n",
    "\n",
    "def process(i):\n",
    "    S = []\n",
    "    for j in range(n):\n",
    "        S.append(Shape(X = XX[i, j], Y = YY[i, j], cs = 0.05, m = 2, rho = 0.1)  )\n",
    "    return S\n",
    "\n",
    "start_time = time.time() # Start recording runtime\n",
    "ZZ = Parallel(n_jobs = 6)(delayed(process)(i) for i in range(n)) # n_jobs is the number of cores\n",
    "print(\"--- %s seconds ---\" % (time.time() - start_time)) # Print runtime\n",
    "\n",
    "ZZ = np.nan_to_num(ZZ)\n",
    "\n",
    "# Save file\n",
    "np.save(\"k1k3.npy\", XX)\n",
    "np.save(\"k2k3.npy\", YY)\n",
    "np.save(\"Shape_cs005m2rho01.npy\", ZZ)"
   ]
  },
  {
   "cell_type": "markdown",
   "id": "a38b3311",
   "metadata": {},
   "source": [
    "<div class=\"alert alert-block alert-info\"> <strong>Task:</strong> Execute the following script to show the result. \n",
    "<ul>\n",
    "    <li>Does the shape resembles any standard shape?</li>\n",
    "  </ul>\n",
    " </div>"
   ]
  },
  {
   "cell_type": "code",
   "execution_count": null,
   "id": "b3faa609",
   "metadata": {},
   "outputs": [],
   "source": [
    "XX = np.load(\"k1k3.npy\")\n",
    "YY = np.load(\"k2k3.npy\")\n",
    "ZZ = np.load(\"Shape_cs005m2rho01.npy\")\n",
    "\n",
    "import matplotlib as mpl\n",
    "plt.style.use('default')\n",
    "plt.rc('text.latex', preamble=r\"\\usepackage{bm}\")\n",
    "plt.rc('text', usetex = True)\n",
    "plt.rc('font', family = 'serif')\n",
    "mpl.rc('axes', edgecolor = \"w\", labelcolor = \"k\")\n",
    "\n",
    "fig = plt.figure(figsize = (6, 4))\n",
    "ax = plt.axes(projection = '3d')\n",
    "ax.grid(False)\n",
    "ax.view_init(30, 230)\n",
    "\n",
    "ax.xaxis.pane.set_edgecolor('w')\n",
    "ax.yaxis.pane.set_edgecolor('w')\n",
    "ax.zaxis.pane.set_edgecolor('w')\n",
    "\n",
    "edges_kw = dict(color = \"k\", linewidth = 0.5, zorder = 1e3)\n",
    "\n",
    "ax.set_xlim(0, 1)\n",
    "ax.set_ylim(0.5, 1)\n",
    "ax.set_zlim(0.4, 2.1)\n",
    "\n",
    "ax.set_xticks([0, 0.5, 1])\n",
    "ax.set_yticks([0.5, 1])\n",
    "ax.set_zticks([1, 2])\n",
    "\n",
    "\n",
    "ax.xaxis.set_rotate_label(False)\n",
    "ax.yaxis.set_rotate_label(False)\n",
    "ax.zaxis.set_rotate_label(False)\n",
    "ax.set_xlabel(\"$k_1/k_3$\", fontsize = 12)\n",
    "ax.set_ylabel(\"$k_2/k_3$\", fontsize = 12)\n",
    "ax.set_title(r\"$(k_1k_2k_3)^2\\,\\langle\\varphi_{\\bm{k}_1} \\varphi_{\\bm{k}_2} \\varphi_{\\bm{k}_3}\\rangle'$\", fontsize = 12)\n",
    "\n",
    "# Plot Shape\n",
    "c_m = mpl.cm.coolwarm\n",
    "ax.plot_surface(XX, YY, ZZ/ZZ[-1, -1], rstride = 1, cstride = 1, cmap = c_m, edgecolor = \"None\") # 3D shape\n",
    "cset = ax.contourf(XX, YY, ZZ/ZZ[-1, -1], zdir = \"z\", offset = 0.4, levels = 10, cmap = c_m, alpha = 0.4) # Projection\n"
   ]
  },
  {
   "cell_type": "markdown",
   "id": "fa3dc660",
   "metadata": {},
   "source": [
    "<div class=\"alert alert-block alert-info\"> <strong>Task:</strong> understand the following script and execute it. </div>"
   ]
  },
  {
   "cell_type": "code",
   "execution_count": 9,
   "id": "84df9e6d",
   "metadata": {},
   "outputs": [],
   "source": [
    "def Soft_Limit(kappa, cs, m, rho):\n",
    "    n = 10000 # Number of points for the parameter evaluation\n",
    "    N_load = np.linspace(-15, 20, n) # Time grid array in e-folds for the parameters\n",
    "    DeltaN = 5 # Number of e-folds before horizon crossing\n",
    "    \n",
    "    k = 1 # Mode corresponding to N = 0 horizon exit\n",
    "    k1, k2, k3 = k/kappa, k/kappa, k # Kinematic configuration for 3-pt function\n",
    "    N_exit = 0 # Horizon exit for a mode\n",
    "    \n",
    "    # Theory \n",
    "    H_load = np.ones(n) # Hubble scale\n",
    "    cs_load = cs * np.ones(n) # Speed of sound for phi\n",
    "    m_load = m * np.ones(n) # Mass of Psi\n",
    "    rho_load = rho * np.ones(n) * adiabatic(N_load, DeltaN, N_exit) # Linear mixing strength\n",
    "    g_load = 1 * np.ones(n) * adiabatic(N_load, DeltaN, N_exit)\n",
    "    \n",
    "    # Load the parameters and define continuous functions\n",
    "    param = parameters(N_load, H_load, cs_load, m_load, rho_load, g_load) # Load the class parameters\n",
    "    interpolated = param.output() # Define list with continuous parameters\n",
    "\n",
    "    # Numerical parameters\n",
    "    Nspan = np.linspace(-10, 20, 1000) # Time span in e-folds for the numerical integration\n",
    "    Nfield = 2 # Number of fields\n",
    "    Rtol, Atol = 1e-3, 1e-20 # Relative and absolute tolerance of the integrator\n",
    "    Ni, Nf = N_exit - DeltaN, 10 # Sets initial and final time for integration\n",
    "    N = np.linspace(Ni, Nf, 1000) # Define the time array for output correlators\n",
    "\n",
    "    # Initialise the integrator\n",
    "    theo = theory(N = Nspan, Nfield = Nfield, interpolated = interpolated)\n",
    "    \n",
    "    s = solver(Nspan = N, Nfield = Nfield, interpolated = interpolated, Rtol = Rtol, Atol = Atol)\n",
    "    f = s.f_solution(k1 = k1, k2 = k2, k3 = k3)\n",
    "    \n",
    "    three_pt = f[6][0, 0, 0][-1]\n",
    "    return (k1*k2*k3)**2 * three_pt # Equivalent to shape function"
   ]
  },
  {
   "cell_type": "markdown",
   "id": "dbaa7817",
   "metadata": {},
   "source": [
    "<div class=\"alert alert-block alert-info\"> <strong>Task:</strong> Execute the following script for cs=1 and for cs=0.05, with fixed m/H=2 and rho/H=0.1. Caution, this might take a few minutes.\n",
    "<ul>\n",
    "    <li>Plot the result. Comment.</li>\n",
    "    <li>What do you notice in the squeezed limit for cs=1?</li>\n",
    "  </ul>\n",
    "  </div>"
   ]
  },
  {
   "cell_type": "code",
   "execution_count": 12,
   "id": "a368c8dd",
   "metadata": {},
   "outputs": [
    {
     "name": "stdout",
     "output_type": "stream",
     "text": [
      "--- 178.109521150589 seconds ---\n"
     ]
    }
   ],
   "source": [
    "from joblib import Parallel, delayed # Needed for parallelisation\n",
    "import time # Record the running time\n",
    "\n",
    "cs, m, rho = 1, 2, 0.1\n",
    "\n",
    "n_pt = 20\n",
    "kappa = np.logspace(-2, 0, n_pt) # k1/k3 with k1=k2\n",
    "\n",
    "def process(i):\n",
    "    return Soft_Limit(kappa = kappa[i], cs = cs, m = m, rho = rho)\n",
    "\n",
    "start_time = time.time() # Start recording runtime\n",
    "X = Parallel(n_jobs = 6)(delayed(process)(i) for i in range(n_pt)) # n_jobs is the number of cores\n",
    "print(\"--- %s seconds ---\" % (time.time() - start_time)) # Print runtime\n",
    "\n",
    "# Save files\n",
    "np.save(\"S_cs1.npy\", X)\n",
    "np.save(\"kappa.npy\", kappa)"
   ]
  },
  {
   "cell_type": "code",
   "execution_count": 16,
   "id": "60c4b9ca",
   "metadata": {},
   "outputs": [
    {
     "data": {
      "text/plain": [
       "<matplotlib.legend.Legend at 0x7fc0e041fa30>"
      ]
     },
     "execution_count": 16,
     "metadata": {},
     "output_type": "execute_result"
    },
    {
     "data": {
      "image/png": "[encoded data removed]",
      "text/plain": [
       "<Figure size 288x288 with 1 Axes>"
      ]
     },
     "metadata": {
      "needs_background": "light"
     },
     "output_type": "display_data"
    }
   ],
   "source": [
    "fig = plt.figure(figsize = (4, 4))\n",
    "ax = fig.add_subplot()\n",
    "\n",
    "kappa = np.load(\"kappa.npy\")\n",
    "S_cs005 = np.load(\"S_cs005.npy\")\n",
    "S_cs1 = np.load(\"S_cs1.npy\")\n",
    "\n",
    "ax.semilogx(kappa, S_cs005/S_cs005[-1], color = \"C0\", label = \"$c_s = 0.05$\")\n",
    "ax.semilogx(kappa, S_cs1/S_cs1[-1], color = \"C3\", label = \"$c_s = 1$\")\n",
    "\n",
    "ax.set_xlabel(r\"$\\kappa \\equiv k_3/k_1$\", fontsize = 12)\n",
    "ax.set_ylabel(r\"Shape function $S(k_1, k_2, k_3)$\", fontsize = 12)\n",
    "ax.legend(frameon = False)\n"
   ]
  },
  {
   "cell_type": "code",
   "execution_count": null,
   "id": "b0d65f3a",
   "metadata": {},
   "outputs": [],
   "source": []
  }
 ],
 "metadata": {
  "kernelspec": {
   "display_name": "Python 3 (ipykernel)",
   "language": "python",
   "name": "python3"
  },
  "language_info": {
   "codemirror_mode": {
    "name": "ipython",
    "version": 3
   },
   "file_extension": ".py",
   "mimetype": "text/x-python",
   "name": "python",
   "nbconvert_exporter": "python",
   "pygments_lexer": "ipython3",
   "version": "3.9.7"
  }
 },
 "nbformat": 4,
 "nbformat_minor": 5
}
