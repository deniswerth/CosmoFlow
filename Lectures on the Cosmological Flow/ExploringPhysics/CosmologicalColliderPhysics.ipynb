{
 "cells": [
  {
   "cell_type": "markdown",
   "id": "96dcb536",
   "metadata": {},
   "source": [
    "# Cosmological Collider Physics"
   ]
  },
  {
   "cell_type": "markdown",
   "id": "741e0731",
   "metadata": {},
   "source": [
    "<div class=\"alert alert-block alert-info\"> In this notebook, you will first play with massive fields in de Sitter, and then discover the famous cosmological collider signal. Caution, some cells will take quite some time to execute (roughly a few minutes).</div>"
   ]
  },
  {
   "cell_type": "code",
   "execution_count": null,
   "id": "c559af4d",
   "metadata": {},
   "outputs": [],
   "source": [
    "# Import the standard Python packages\n",
    "import numpy as np\n",
    "import matplotlib.pyplot as plt\n",
    "from tqdm import tqdm\n",
    "\n",
    "# For Latex-style labels\n",
    "plt.rc('text', usetex=True)\n",
    "plt.rc('font', family='serif')\n",
    "plt.rc('text.latex', preamble=r\"\\usepackage{bm}\")\n",
    "\n",
    "# Import CosmoFlow modules (they must be located in the same parent folder as this notebook)\n",
    "from Parameters import parameters\n",
    "from Theory import theory\n",
    "from Solver import solver"
   ]
  },
  {
   "cell_type": "code",
   "execution_count": null,
   "id": "5c8ea3bb",
   "metadata": {},
   "outputs": [],
   "source": [
    "# Define the numerical i\\epsilon prescription\n",
    "def adiabatic(N_load, DeltaN, N_exit):\n",
    "    return (np.tanh((N_load - N_exit + DeltaN - 0.5)/0.1) + 1)/2"
   ]
  },
  {
   "cell_type": "markdown",
   "id": "81ea8d95",
   "metadata": {},
   "source": [
    "## Massive Fields in de Sitter"
   ]
  },
  {
   "cell_type": "markdown",
   "id": "00a5f675",
   "metadata": {},
   "source": [
    "<div class=\"alert alert-block alert-info\"> <strong>Task:</strong> Write a function massive(m) that takes the mass as an input, and outputs the number of $e$-folds array N and the two-point function of the massive field. You will store the data up to 20 efolds after horizon crossing. </div>"
   ]
  },
  {
   "cell_type": "code",
   "execution_count": null,
   "id": "d400dc51",
   "metadata": {},
   "outputs": [],
   "source": [
    "def massive(m):\n",
    "    \n",
    "    ...\n",
    "    \n",
    "    return N, f[0][1, 1]"
   ]
  },
  {
   "cell_type": "markdown",
   "id": "021206ea",
   "metadata": {},
   "source": [
    "<div class=\"alert alert-block alert-info\"> <strong>Task:</strong> Plot the time evolution of the massive two-point correlator (rescaled by a^3) for m/H=1.6, m/H=2 and m/H=3. Comment. \n",
    "<ul>\n",
    "    <li>What happens for m/H<3/2?</li>\n",
    "  </ul>\n",
    "</div>"
   ]
  },
  {
   "cell_type": "code",
   "execution_count": null,
   "id": "2743629f",
   "metadata": {},
   "outputs": [],
   "source": [
    "..."
   ]
  },
  {
   "cell_type": "markdown",
   "id": "047aee36",
   "metadata": {},
   "source": [
    "<div class=\"alert alert-block alert-info\"> <strong>Task:</strong> Plot the amplitude of the super-horizon oscillations of the massive two-point correlator as function of the mass for m/H from 1.6 to 3 with 15 points. \n",
    "<ul>\n",
    "    <li>How does it scale?</li>\n",
    "  </ul>\n",
    "</div>"
   ]
  },
  {
   "cell_type": "code",
   "execution_count": null,
   "id": "f54a0956",
   "metadata": {},
   "outputs": [],
   "source": [
    "..."
   ]
  },
  {
   "cell_type": "markdown",
   "id": "1375dce2",
   "metadata": {},
   "source": [
    "## Cosmological Collider Signals"
   ]
  },
  {
   "cell_type": "markdown",
   "id": "3b1956f4",
   "metadata": {},
   "source": [
    "<div class=\"alert alert-block alert-info\"> <strong>Task:</strong> Understand and execute the following script.\n",
    "    </div>"
   ]
  },
  {
   "cell_type": "code",
   "execution_count": null,
   "id": "26a78d2b",
   "metadata": {},
   "outputs": [],
   "source": [
    "def Soft_Limit(kappa, cs, m, rho):\n",
    "    n = 10000 # Number of points for the parameter evaluation\n",
    "    N_load = np.linspace(-10, 20, n) # Time grid array in e-folds for the parameters\n",
    "    DeltaN = 5.5 # Number of e-folds before horizon crossing\n",
    "    \n",
    "    N_exit = 0\n",
    "    k = 1 # Mode corresponding to N = 0 horizon exit\n",
    "    k1, k2, k3 = k/kappa, k/kappa, k # Kinematic configuration for 3-pt function\n",
    "    \n",
    "    # Theory \n",
    "    H_load = np.ones(n) # Hubble scale\n",
    "    cs_load = cs * np.ones(n) # Speed of sound for phi\n",
    "    m_load = m * np.ones(n) # Mass of Psi\n",
    "    rho_load = rho * np.ones(n) * adiabatic(N_load, DeltaN, N_exit) # Linear mixing strength\n",
    "    g_load = 1 * np.ones(n) * adiabatic(N_load, DeltaN, N_exit) # Cubic coupling\n",
    "    \n",
    "    # Load the parameters and define continuous functions\n",
    "    param = parameters(N_load, H_load, cs_load, m_load, rho_load, g_load) # Load the class parameters\n",
    "    interpolated = param.output() # Define list with continuous parameters\n",
    "\n",
    "    # Numerical parameters\n",
    "    Nspan = np.linspace(-10, 20, 1000) # Time span in e-folds for the numerical integration\n",
    "    Nfield = 2 # Number of fields\n",
    "    Rtol, Atol = 1e-3, 1e-20 # Relative and absolute tolerance of the integrator\n",
    "    N_exit = 0 # Horizon exit for a mode\n",
    "    Ni, Nf = N_exit - DeltaN, 10 # Sets initial and final time for integration\n",
    "    N = np.linspace(Ni, Nf, 1000) # Define the time array for output correlators\n",
    "\n",
    "    # Initialise the integrator\n",
    "    theo = theory(N = Nspan, Nfield = Nfield, interpolated = interpolated)\n",
    "    \n",
    "    s = solver(Nspan = N, Nfield = Nfield, interpolated = interpolated, Rtol = Rtol, Atol = Atol)\n",
    "    f = s.f_solution(k1 = k1, k2 = k2, k3 = k3)\n",
    "    \n",
    "    #two_ptk1, two_ptk3, three_pt = f[0][0, 0], f[2][0, 0], f[6][0, 0, 0]\n",
    "    #return N, two_ptk1, two_ptk3, (k1*k2*k3)**2 * three_pt # Equivalent to shape function\n",
    "    three_pt = f[6][0, 0, 0][-1]\n",
    "    return (k1*k2*k3)**2 * three_pt # Equivalent to shape function"
   ]
  },
  {
   "cell_type": "markdown",
   "id": "1e31bff5",
   "metadata": {},
   "source": [
    "<div class=\"alert alert-block alert-info\"> <strong>Task:</strong> Understand and execute the following script for cs=0.1, m/H=0.1 and rho/H=5. Caution, this takes roughly 10 minutes to run.\n",
    "    </div>"
   ]
  },
  {
   "cell_type": "code",
   "execution_count": null,
   "id": "c9f524b0",
   "metadata": {},
   "outputs": [],
   "source": [
    "from joblib import Parallel, delayed # Needed for parallelisation\n",
    "import time # Record the running time\n",
    "\n",
    "cs, m, rho = 0.1, 0.1, 5\n",
    "\n",
    "n_pt = 50\n",
    "kappa = np.logspace(-2, 0, n_pt) # k1/k3 with k1=k2\n",
    "\n",
    "def process(i):\n",
    "    return Soft_Limit(kappa = kappa[i], cs = cs, m = m, rho = rho)\n",
    "\n",
    "start_time = time.time() # Start recording runtime\n",
    "X = Parallel(n_jobs = 6)(delayed(process)(i) for i in range(n_pt)) # n_jobs is the number of cores\n",
    "print(\"--- %s seconds ---\" % (time.time() - start_time)) # Print runtime\n",
    "\n",
    "# Save files\n",
    "np.save(\"S_CC.npy\", X)\n",
    "np.save(\"kappa_CC.npy\", kappa)"
   ]
  },
  {
   "cell_type": "markdown",
   "id": "be0ea396",
   "metadata": {},
   "source": [
    "<div class=\"alert alert-block alert-info\"> <strong>Task:</strong> Load the result and plot the shape function (divided by kappa) as function of kappa. Comment.\n",
    "    </div>"
   ]
  },
  {
   "cell_type": "code",
   "execution_count": null,
   "id": "0d0c1054",
   "metadata": {},
   "outputs": [],
   "source": [
    "..."
   ]
  },
  {
   "cell_type": "markdown",
   "id": "2c4c62f4",
   "metadata": {},
   "source": [
    "If you are interested and brave enough, integrate out the heavy field in a local manner by writing \n",
    "\\begin{equation}\n",
    "    \\Psi = \\frac{\\rho}{m^2} \\dot{\\varphi}\\,,\n",
    "\\end{equation}\n",
    "and plug the result back in the action. We end up with a new single-field effective theory. Implement this new theory in CosmoFlow (create a new folder and appropriately modify the necessary modules), and recompute the bispectrum shape, scanning the squeezed limit. What are your conclusions? "
   ]
  },
  {
   "cell_type": "code",
   "execution_count": null,
   "id": "d38891d0",
   "metadata": {},
   "outputs": [],
   "source": []
  }
 ],
 "metadata": {
  "kernelspec": {
   "display_name": "Python 3 (ipykernel)",
   "language": "python",
   "name": "python3"
  },
  "language_info": {
   "codemirror_mode": {
    "name": "ipython",
    "version": 3
   },
   "file_extension": ".py",
   "mimetype": "text/x-python",
   "name": "python",
   "nbconvert_exporter": "python",
   "pygments_lexer": "ipython3",
   "version": "3.9.7"
  }
 },
 "nbformat": 4,
 "nbformat_minor": 5
}
