{
 "cells": [
  {
   "cell_type": "markdown",
   "id": "e0d35fa9",
   "metadata": {},
   "source": [
    "# Phase Diagrams (Solutions)"
   ]
  },
  {
   "cell_type": "markdown",
   "id": "d079f319",
   "metadata": {},
   "source": [
    "<div class=\"alert alert-block alert-info\"> In this notebook, you will scan the amplitude of the power spectrum and the bispectrum amplitudes in the parameter space. </div>"
   ]
  },
  {
   "cell_type": "code",
   "execution_count": 1,
   "id": "14a68e1b",
   "metadata": {},
   "outputs": [],
   "source": [
    "# Import the standard Python packages\n",
    "import numpy as np\n",
    "import matplotlib.pyplot as plt\n",
    "from tqdm import tqdm # Display a bar for loops\n",
    "\n",
    "# For Latex-style labels\n",
    "plt.rc('text', usetex=True)\n",
    "plt.rc('font', family='serif')\n",
    "plt.rc('text.latex', preamble=r\"\\usepackage{bm}\")\n",
    "\n",
    "# Import CosmoFlow modules (they must be located in the same parent folder as this notebook)\n",
    "from Parameters import parameters\n",
    "from Theory import theory\n",
    "from Solver import solver"
   ]
  },
  {
   "cell_type": "code",
   "execution_count": 2,
   "id": "e5d3de3b",
   "metadata": {},
   "outputs": [],
   "source": [
    "# Define the numerical i\\epsilon prescription\n",
    "def adiabatic(N_load, DeltaN):\n",
    "    return (np.tanh((N_load + DeltaN - 1)/0.1) + 1)/2"
   ]
  },
  {
   "cell_type": "markdown",
   "id": "81c707fa",
   "metadata": {},
   "source": [
    "<div class=\"alert alert-block alert-info\"> <strong>Task:</strong> Write a function phase_diagram(m, rho) that takes the mass and the quadratic mixing strength as inputs, and outputs the final amplitudes of the two- and three-point correlator (in equilateral kinematic configuration). We will fix cs=1 for simplicity. </div>"
   ]
  },
  {
   "cell_type": "code",
   "execution_count": 3,
   "id": "759b7e2c",
   "metadata": {},
   "outputs": [],
   "source": [
    "def phase_diagram(m, rho):\n",
    "    n = 10000 # Number of points for the parameter evaluation\n",
    "    N_load = np.linspace(-10, 20, n) # Time grid array in e-folds for the parameters\n",
    "    DeltaN = 4.5 # Number of e-folds before horizon crossing\n",
    "    \n",
    "    # Theory \n",
    "    H_load = np.ones(n) # Hubble scale\n",
    "    cs_load = 1 * np.ones(n) # Speed of sound for phi\n",
    "    m_load = m * np.ones(n) # Mass of Psi\n",
    "    rho_load = rho * np.ones(n) * adiabatic(N_load, DeltaN) # Linear mixing strength\n",
    "    g_load = 1 * np.ones(n) * adiabatic(N_load, DeltaN) # Single-exchange coupling\n",
    "    \n",
    "    # Load the parameters and define continuous functions\n",
    "    param = parameters(N_load, H_load, cs_load, m_load, rho_load, g_load) # Load the class parameters\n",
    "    interpolated = param.output() # Define list with continuous parameters\n",
    "\n",
    "    # Numerical parameters\n",
    "    Nspan = np.linspace(-10, 20, 1000) # Time span in e-folds for the numerical integration\n",
    "    Nfield = 2 # Number of fields\n",
    "    Rtol, Atol = 1e-4, 1e-180 # Relative and absolute tolerance of the integrator\n",
    "    N_exit = 0 # Horizon exit for a mode\n",
    "    Ni, Nf = N_exit - DeltaN, 5 # Sets initial and final time for integration\n",
    "    N = np.linspace(Ni, Nf, 1000) # Define the time array for output correlators\n",
    "\n",
    "    # Initialise the integrator\n",
    "    theo = theory(N = Nspan, Nfield = Nfield, interpolated = interpolated)\n",
    "    \n",
    "    k = theo.k_mode(N_exit) # Mode corresponding to N = 0 horizon exit\n",
    "    k1, k2, k3 = k, k, k # Kinematic configuration for 3-pt function (here equilateral)\n",
    "    \n",
    "    s = solver(Nspan = N, Nfield = Nfield, interpolated = interpolated, Rtol = Rtol, Atol = Atol)\n",
    "    f = s.f_solution(k1 = k1, k2 = k2, k3 = k3)\n",
    "    \n",
    "    two_pt = f[0][0, 0][-1]\n",
    "    three_pt = f[6][0, 0, 0][-1]\n",
    "    return two_pt, three_pt"
   ]
  },
  {
   "cell_type": "markdown",
   "id": "9dad4de9",
   "metadata": {},
   "source": [
    "<div class=\"alert alert-block alert-info\"> <strong>Task:</strong> Try to understand the following script and execute it. Caution, it might take a few minutes to run. </div>"
   ]
  },
  {
   "cell_type": "code",
   "execution_count": 4,
   "id": "85fe3d5a",
   "metadata": {},
   "outputs": [
    {
     "name": "stderr",
     "output_type": "stream",
     "text": [
      "/opt/anaconda3/lib/python3.9/site-packages/scipy/integrate/_ivp/common.py:116: RuntimeWarning: invalid value encountered in scalar divide\n",
      "  d2 = norm((f1 - f0) / scale) / h0\n",
      "/opt/anaconda3/lib/python3.9/site-packages/scipy/integrate/_ivp/common.py:116: RuntimeWarning: invalid value encountered in scalar divide\n",
      "  d2 = norm((f1 - f0) / scale) / h0\n",
      "/opt/anaconda3/lib/python3.9/site-packages/scipy/integrate/_ivp/common.py:116: RuntimeWarning: invalid value encountered in scalar divide\n",
      "  d2 = norm((f1 - f0) / scale) / h0\n",
      "/opt/anaconda3/lib/python3.9/site-packages/scipy/integrate/_ivp/common.py:116: RuntimeWarning: invalid value encountered in scalar divide\n",
      "  d2 = norm((f1 - f0) / scale) / h0\n",
      "/opt/anaconda3/lib/python3.9/site-packages/scipy/integrate/_ivp/common.py:116: RuntimeWarning: invalid value encountered in scalar divide\n",
      "  d2 = norm((f1 - f0) / scale) / h0\n",
      "/opt/anaconda3/lib/python3.9/site-packages/scipy/integrate/_ivp/common.py:116: RuntimeWarning: invalid value encountered in scalar divide\n",
      "  d2 = norm((f1 - f0) / scale) / h0\n"
     ]
    },
    {
     "name": "stdout",
     "output_type": "stream",
     "text": [
      "--- 55.58961796760559 seconds ---\n"
     ]
    }
   ],
   "source": [
    "from joblib import Parallel, delayed # Needed for parallelisation\n",
    "import time # Record the running time\n",
    "\n",
    "n_pt = 10\n",
    "m = np.logspace(-1, 1, n_pt)\n",
    "rho = np.logspace(-1, 1, n_pt)\n",
    "\n",
    "def process(i):\n",
    "    two_pt = []\n",
    "    three_pt = []\n",
    "    for j in range(n_pt):\n",
    "        C2, C3 = phase_diagram(m = m[i], rho = rho[j])\n",
    "        two_pt.append(C2)\n",
    "        three_pt.append(C3)\n",
    "    return two_pt, three_pt\n",
    "\n",
    "start_time = time.time() # Start recording runtime\n",
    "X = Parallel(n_jobs = 6)(delayed(process)(i) for i in range(n_pt)) # n_jobs is the number of cores\n",
    "print(\"--- %s seconds ---\" % (time.time() - start_time)) # Print runtime\n",
    "\n",
    "# Define 2D arrays for correlators\n",
    "two_pt = np.ones((n_pt, n_pt))\n",
    "three_pt = np.ones((n_pt, n_pt))\n",
    "\n",
    "# Reconstructing correlators from the parallelisation output\n",
    "for i in range(n_pt):\n",
    "    for j in range(n_pt):\n",
    "        two_pt[i, j] = X[i][0][j]\n",
    "        three_pt[i, j] = X[i][1][j]\n",
    "        \n",
    "# Save files\n",
    "np.save(\"two_pt.npy\", two_pt)\n",
    "np.save(\"three_pt.npy\", three_pt)"
   ]
  },
  {
   "cell_type": "markdown",
   "id": "faf2e0e6",
   "metadata": {},
   "source": [
    "<div class=\"alert alert-block alert-info\"> <strong>Task:</strong> Execute the following script to show the results for the power spectrum. Comment. </div>"
   ]
  },
  {
   "cell_type": "code",
   "execution_count": 6,
   "id": "21bd98c1",
   "metadata": {
    "scrolled": true
   },
   "outputs": [
    {
     "data": {
      "text/plain": [
       "Text(0.5, 1.05, \"$\\\\langle\\\\varphi_{\\\\bm{k}_1} \\\\varphi_{\\\\bm{k}_2}\\\\rangle'$\")"
      ]
     },
     "execution_count": 6,
     "metadata": {},
     "output_type": "execute_result"
    },
    {
     "data": {
      "image/png": "[encoded data removed]",
      "text/plain": [
       "<Figure size 432x288 with 2 Axes>"
      ]
     },
     "metadata": {
      "needs_background": "light"
     },
     "output_type": "display_data"
    }
   ],
   "source": [
    "import matplotlib\n",
    "from matplotlib import cm\n",
    "from pylab import contour, clabel\n",
    "\n",
    "# Define figure\n",
    "fig = plt.figure()\n",
    "ax = fig.add_subplot()\n",
    "\n",
    "ax.set_xscale(\"log\")\n",
    "ax.set_yscale(\"log\")\n",
    "\n",
    "ax.set_xlim((np.min(m), np.max(m)))\n",
    "ax.set_ylim((np.min(rho), np.max(rho)))\n",
    "\n",
    "X, Y = np.meshgrid(m, rho)\n",
    "TwoPt = np.load(\"two_pt.npy\")\n",
    "\n",
    "im = ax.pcolormesh(X, Y, np.transpose(TwoPt), cmap = \"coolwarm\")\n",
    "cb = plt.colorbar(im, shrink = 0.8)\n",
    "cb.set_ticks([1, 3, 5])\n",
    "ax.set_xlabel(\"$m/H$\", fontsize = 12)\n",
    "ax.set_ylabel(\"$\\\\rho/H$\", fontsize = 12)\n",
    "ax.set_title(r\"$\\langle\\varphi_{\\bm{k}_1} \\varphi_{\\bm{k}_2}\\rangle'$\", y = 1.05)\n"
   ]
  },
  {
   "cell_type": "markdown",
   "id": "9e44733e",
   "metadata": {},
   "source": [
    "<div class=\"alert alert-block alert-info\"> <strong>Task:</strong> Execute the following script to show the results for the equilateral bispectrum. Comment. </div>"
   ]
  },
  {
   "cell_type": "code",
   "execution_count": 7,
   "id": "b0e6d86d",
   "metadata": {},
   "outputs": [
    {
     "data": {
      "text/plain": [
       "Text(0.5, 1.05, \"$\\\\langle\\\\varphi_{\\\\bm{k}_1} \\\\varphi_{\\\\bm{k}_2} \\\\varphi_{\\\\bm{k}_3}\\\\rangle'$\")"
      ]
     },
     "execution_count": 7,
     "metadata": {},
     "output_type": "execute_result"
    },
    {
     "data": {
      "image/png": "[encoded data removed]",
      "text/plain": [
       "<Figure size 432x288 with 2 Axes>"
      ]
     },
     "metadata": {
      "needs_background": "light"
     },
     "output_type": "display_data"
    }
   ],
   "source": [
    "import matplotlib\n",
    "from matplotlib import cm\n",
    "from pylab import contour, clabel\n",
    "\n",
    "# Define figure\n",
    "fig = plt.figure()\n",
    "ax = fig.add_subplot()\n",
    "\n",
    "ax.set_xscale(\"log\")\n",
    "ax.set_yscale(\"log\")\n",
    "\n",
    "ax.set_xlim((np.min(m), np.max(m)))\n",
    "ax.set_ylim((np.min(rho), np.max(rho)))\n",
    "\n",
    "X, Y = np.meshgrid(m, rho)\n",
    "ThreePt = np.load(\"three_pt.npy\")\n",
    "\n",
    "im = ax.pcolormesh(X, Y, np.transpose(ThreePt)/10, cmap = \"coolwarm\")\n",
    "cb = plt.colorbar(im, shrink = 0.8)\n",
    "cb.set_label(\"$\\\\times 10$\", fontsize = 15, rotation = 0, y = 1.12, labelpad = -15)\n",
    "cb.set_ticks([0, 1, 2])\n",
    "ax.set_xlabel(\"$m/H$\", fontsize = 12)\n",
    "ax.set_ylabel(\"$\\\\rho/H$\", fontsize = 12)\n",
    "ax.set_title(r\"$\\langle\\varphi_{\\bm{k}_1} \\varphi_{\\bm{k}_2} \\varphi_{\\bm{k}_3}\\rangle'$\", y = 1.05)\n",
    "\n"
   ]
  },
  {
   "cell_type": "code",
   "execution_count": null,
   "id": "c3115dac",
   "metadata": {},
   "outputs": [],
   "source": []
  }
 ],
 "metadata": {
  "kernelspec": {
   "display_name": "Python 3 (ipykernel)",
   "language": "python",
   "name": "python3"
  },
  "language_info": {
   "codemirror_mode": {
    "name": "ipython",
    "version": 3
   },
   "file_extension": ".py",
   "mimetype": "text/x-python",
   "name": "python",
   "nbconvert_exporter": "python",
   "pygments_lexer": "ipython3",
   "version": "3.9.7"
  }
 },
 "nbformat": 4,
 "nbformat_minor": 5
}
