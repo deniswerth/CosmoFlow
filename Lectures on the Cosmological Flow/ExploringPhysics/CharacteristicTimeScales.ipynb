{
 "cells": [
  {
   "cell_type": "markdown",
   "id": "aaa90cc6",
   "metadata": {},
   "source": [
    "# Characteristic Time Scales"
   ]
  },
  {
   "cell_type": "markdown",
   "id": "bbeed293",
   "metadata": {},
   "source": [
    "<div class=\"alert alert-block alert-info\"> In this notebook, you will play with parameters of the implemented theory (mass, sound speed and quadratic mixing) to try to understand what is the bulk dynamics of the fields as we move in the parameter space. </div>"
   ]
  },
  {
   "cell_type": "code",
   "execution_count": null,
   "id": "d2c49968",
   "metadata": {},
   "outputs": [],
   "source": [
    "# Import the standard Python packages\n",
    "import numpy as np\n",
    "import matplotlib.pyplot as plt\n",
    "import matplotlib\n",
    "import time\n",
    "\n",
    "# For Latex-style labels\n",
    "plt.rc('text', usetex=True)\n",
    "plt.rc('font', family='serif')\n",
    "plt.rc('text.latex', preamble=r\"\\usepackage{bm}\")\n",
    "\n",
    "# Import CosmoFlow modules (they must be located in the same parent folder as this notebook)\n",
    "from Parameters import parameters\n",
    "from Theory import theory\n",
    "from Solver import solver"
   ]
  },
  {
   "cell_type": "code",
   "execution_count": null,
   "id": "d6f0cfdb",
   "metadata": {},
   "outputs": [],
   "source": [
    "# Define the numerical i\\epsilon prescription\n",
    "def adiabatic(N_load, DeltaN):\n",
    "    return (np.tanh((N_load + DeltaN - 1)/0.1) + 1)/2"
   ]
  },
  {
   "cell_type": "markdown",
   "id": "bd2567a2",
   "metadata": {},
   "source": [
    "<div class=\"alert alert-block alert-info\"> <strong>Task:</strong> Write a function horizons(cs, m, rho) that takes the sound speed, the mass and the quadratic mixing strength as inputs, and outputs the number of $e$-folds array N and the array f where all correlators as function of time are stored. </div>"
   ]
  },
  {
   "cell_type": "code",
   "execution_count": null,
   "id": "cd13fa04",
   "metadata": {},
   "outputs": [],
   "source": [
    "def horizons(cs, m, rho):\n",
    "    \n",
    "    ...\n",
    "    \n",
    "    return N, f"
   ]
  },
  {
   "cell_type": "markdown",
   "id": "9e2806d9",
   "metadata": {},
   "source": [
    "## Sound Horizon Crossing"
   ]
  },
  {
   "cell_type": "markdown",
   "id": "11a517ea",
   "metadata": {},
   "source": [
    "<div class=\"alert alert-block alert-info\"> <strong>Task:</strong> Write a script that produces a figure showing the two- and three-point correlators (in equilateral kinematic configuration) as function of time, varying cs from $0.1$ to $1$ with $10$ points. We will fix $m/H=2$ and $\\rho/H=0.1$. \n",
    "    <ul>\n",
    "    <li>What do you notice?</li>\n",
    "    <li>The code is slower or faster when we decrease the sound speed?</li></li>\n",
    "  </ul>\n",
    "</div>"
   ]
  },
  {
   "cell_type": "code",
   "execution_count": null,
   "id": "eaa00a52",
   "metadata": {},
   "outputs": [],
   "source": [
    "..."
   ]
  },
  {
   "cell_type": "markdown",
   "id": "cbf4b57d",
   "metadata": {},
   "source": [
    "<div class=\"alert alert-block alert-info\"> <strong>Task:</strong> Write a script that produces a figure showing the freez-out time ($e$-fold value relative to horizon crossing a $N=0$) as function of $\\log_{10}(c_s)$. We will fix $m/H=2$ and $\\rho/H=0.1$ and logarithmically scan 10 values of $c_s$ between $0.1$ and 1. Comment. \n",
    "    \n",
    "Hint: To get the freeze-out time, you will store the first array index i for which two consecutive values of the massless field two-point function reach the $10^{-2}$ threshold.\n",
    "</div>"
   ]
  },
  {
   "cell_type": "code",
   "execution_count": null,
   "id": "aed8b700",
   "metadata": {},
   "outputs": [],
   "source": [
    "..."
   ]
  },
  {
   "cell_type": "markdown",
   "id": "344f9245",
   "metadata": {},
   "source": [
    "## Strong Mixing Horizon Crossing"
   ]
  },
  {
   "cell_type": "markdown",
   "id": "2bf7e629",
   "metadata": {},
   "source": [
    "<div class=\"alert alert-block alert-info\"> <strong>Task:</strong> Write a script that produces a figure showing the two- and three-point correlators (in equilateral kinematic configuration) as function of time, varying $\\rho/H$ from $0.1$ to $10$ with $10$ points. We will fix $c_s=1$ and $m/H=2$. \n",
    "    <ul>\n",
    "    <li>What do you notice for the two-point function of $\\varphi$ on sub-horizon scales?</li>\n",
    "    <li>What do you notice for the three-point function of $\\varphi$ on sub-horizon scales? Explain.</li>\n",
    "  </ul>\n",
    "</div>"
   ]
  },
  {
   "cell_type": "code",
   "execution_count": null,
   "id": "5bc7d3b6",
   "metadata": {},
   "outputs": [],
   "source": [
    "..."
   ]
  },
  {
   "cell_type": "markdown",
   "id": "f47bc641",
   "metadata": {},
   "source": [
    "## Squeezing the Bispectrum"
   ]
  },
  {
   "cell_type": "markdown",
   "id": "81e5e48d",
   "metadata": {},
   "source": [
    "<div class=\"alert alert-block alert-info\"> <strong>Task:</strong> Write a function squeezed(kappa) that takes the squeezing ratio kappa as inputs, and outputs the number of $e$-folds array N and the array f where all correlators as function of time are stored. We will consider cs=1, m/H=2 and rho/H=0.1. </div>"
   ]
  },
  {
   "cell_type": "code",
   "execution_count": null,
   "id": "21700456",
   "metadata": {},
   "outputs": [],
   "source": [
    "def squeezed(kappa):\n",
    "    \n",
    "    ...\n",
    "    \n",
    "    return N, f"
   ]
  },
  {
   "cell_type": "markdown",
   "id": "c8759732",
   "metadata": {},
   "source": [
    "<div class=\"alert alert-block alert-info\"> <strong>Task:</strong> Write a script that produces a figure showing the three-point correlators as function of the time, varying the squeezing ratio kappa from $1$ to $0.1$ with $5$ points. \n",
    "    <ul>\n",
    "    <li>What do you notice? Explain.</li>\n",
    "  </ul>\n",
    "</div>"
   ]
  },
  {
   "cell_type": "code",
   "execution_count": null,
   "id": "3881f482",
   "metadata": {},
   "outputs": [],
   "source": [
    "..."
   ]
  },
  {
   "cell_type": "markdown",
   "id": "f7f12b02",
   "metadata": {},
   "source": [
    "<div class=\"alert alert-block alert-info\"> <strong>Task:</strong> Write a script that produces a figure showing the two-point correlators for two different modes as function of the time, for a squeezing parameter 0.1. \n",
    "    <ul>\n",
    "    <li>What do you notice? Explain.</li>\n",
    "  </ul>\n",
    "</div>"
   ]
  },
  {
   "cell_type": "code",
   "execution_count": null,
   "id": "456465ca",
   "metadata": {},
   "outputs": [],
   "source": [
    "..."
   ]
  }
 ],
 "metadata": {
  "kernelspec": {
   "display_name": "Python 3 (ipykernel)",
   "language": "python",
   "name": "python3"
  },
  "language_info": {
   "codemirror_mode": {
    "name": "ipython",
    "version": 3
   },
   "file_extension": ".py",
   "mimetype": "text/x-python",
   "name": "python",
   "nbconvert_exporter": "python",
   "pygments_lexer": "ipython3",
   "version": "3.9.7"
  }
 },
 "nbformat": 4,
 "nbformat_minor": 5
}
