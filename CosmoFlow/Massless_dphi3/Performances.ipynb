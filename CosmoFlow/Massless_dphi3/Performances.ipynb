{
 "cells": [
  {
   "cell_type": "markdown",
   "id": "c352bc91",
   "metadata": {},
   "source": [
    "# $\\mathsf{CosmoFlow}$ Performances (single-field theory)"
   ]
  },
  {
   "cell_type": "markdown",
   "id": "23001d47",
   "metadata": {},
   "source": [
    "<div class=\"alert alert-block alert-info\"> Please reach out to the developers if you have questions! Your questions and feedback are very valuable to us. </div>"
   ]
  },
  {
   "cell_type": "code",
   "execution_count": 2,
   "id": "94760297",
   "metadata": {},
   "outputs": [],
   "source": [
    "# Import the standard Python packages\n",
    "import numpy as np\n",
    "import matplotlib.pyplot as plt\n",
    "import time # Record the running time\n",
    "\n",
    "# Import CosmoFlow modules (they must be located in the same parent folder as this notebook)\n",
    "from Parameters import parameters\n",
    "from Theory import theory\n",
    "from Solver import solver"
   ]
  },
  {
   "cell_type": "code",
   "execution_count": 3,
   "id": "b85fcaf3",
   "metadata": {},
   "outputs": [],
   "source": [
    "# Define the numerical i\\epsilon prescription\n",
    "def adiabatic(N_load, DeltaN, N_exit):\n",
    "    return (np.tanh((N_load - N_exit + DeltaN - 0.5)/0.1) + 1)/2"
   ]
  },
  {
   "cell_type": "markdown",
   "id": "06d972db",
   "metadata": {},
   "source": [
    "## Number of massless $e$-folds"
   ]
  },
  {
   "cell_type": "code",
   "execution_count": 14,
   "id": "54c45f87",
   "metadata": {},
   "outputs": [],
   "source": [
    "def massless_efolds(DeltaN):\n",
    "    n = 10000 # Number of points for the parameter evaluation\n",
    "    N_load = np.linspace(-10, 20, n) # Time grid array in e-folds for the parameters\n",
    "    \n",
    "    # Kinematic configuration\n",
    "    k = 1 # Mode corresponding to N = 0 horizon exit\n",
    "    k1, k2, k3 = 100*k, 100*k, k # Kinematic configuration for 3-pt function\n",
    "    N_exit = 0 # Horizon exit for a mode\n",
    "    \n",
    "    # Theory \n",
    "    g_load = 1 * np.ones(n) * adiabatic(N_load, DeltaN, N_exit) # Cubic coupling constant\n",
    "    H_load = np.ones(n) # Hubble scale\n",
    "\n",
    "    # Load the parameters and define continuous functions\n",
    "    param = parameters(N_load, H_load, g_load) # Load the class parameters\n",
    "    interpolated = param.output() # Define list with continuous parameters\n",
    "\n",
    "    # Numerical parameters\n",
    "    Nspan = np.linspace(-10, 20, 1000) # Time span in e-folds for the numerical integration\n",
    "    Nfield = 1 # Number of fields\n",
    "    Rtol, Atol = 1e-3, 1e-50 # Relative and absolute tolerance of the integrator\n",
    "    Ni, Nf = N_exit - DeltaN, 10 # Sets initial and final time for integration\n",
    "    N = np.linspace(Ni, Nf, 1000) # Define the time array for output correlators\n",
    "\n",
    "    # Initialise the integrator\n",
    "    theo = theory(N = Nspan, Nfield = Nfield, interpolated = interpolated)\n",
    "    \n",
    "    # Solve flow equations\n",
    "    s = solver(Nspan = N, Nfield = Nfield, interpolated = interpolated, Rtol = Rtol, Atol = Atol)\n",
    "    start_time = time.time() # Start recording runtime\n",
    "    f = s.f_solution(k1 = k1, k2 = k2, k3 = k3)\n",
    "    T = time.time() - start_time # Stop time record\n",
    "    \n",
    "    return T"
   ]
  },
  {
   "cell_type": "code",
   "execution_count": 15,
   "id": "e2c31aee",
   "metadata": {},
   "outputs": [
    {
     "name": "stdout",
     "output_type": "stream",
     "text": [
      "--- 2560.742159128189 seconds ---\n"
     ]
    }
   ],
   "source": [
    "n = 20\n",
    "DeltaN = np.linspace(2, 7, n)\n",
    "T = np.zeros(n)\n",
    "\n",
    "start_time = time.time() # Start recording runtime\n",
    "for i in range(n):\n",
    "    T[i] = massless_efolds(DeltaN[i])\n",
    "print(\"--- %s seconds ---\" % (time.time() - start_time)) # Print runtime\n",
    "\n",
    "# Save files\n",
    "np.save(\"DeltaN.npy\", DeltaN)\n",
    "np.save(\"Runtime_1fields_squeezed.npy\", T)"
   ]
  },
  {
   "cell_type": "markdown",
   "id": "0f79b540",
   "metadata": {},
   "source": [
    "The figure is generated in the \"Performances\" notebook in the PhiPsi folder."
   ]
  },
  {
   "cell_type": "markdown",
   "id": "d356580f",
   "metadata": {},
   "source": [
    "## Soft Limit"
   ]
  },
  {
   "cell_type": "code",
   "execution_count": 16,
   "id": "a95035fb",
   "metadata": {},
   "outputs": [],
   "source": [
    "def soft_limit(kappa):\n",
    "    n = 10000 # Number of points for the parameter evaluation\n",
    "    N_load = np.linspace(-10, 20, n) # Time grid array in e-folds for the parameters\n",
    "    DeltaN = 3 # Number of e-folds before horizon crossing\n",
    "    \n",
    "    # Kinematic configuration\n",
    "    k = 1 # Mode corresponding to N = 0 horizon exit\n",
    "    k1, k2, k3 = k/kappa, k/kappa, k # Kinematic configuration for 3-pt function\n",
    "    N_exit = 0 # Horizon exit for a mode\n",
    "    \n",
    "    # Theory \n",
    "    g_load = 1 * np.ones(n) * adiabatic(N_load, DeltaN, N_exit) # Cubic coupling constant\n",
    "    H_load = np.ones(n) # Hubble scale\n",
    "\n",
    "    # Load the parameters and define continuous functions\n",
    "    param = parameters(N_load, H_load, g_load) # Load the class parameters\n",
    "    interpolated = param.output() # Define list with continuous parameters\n",
    "\n",
    "    # Numerical parameters\n",
    "    Nspan = np.linspace(-10, 20, 1000) # Time span in e-folds for the numerical integration\n",
    "    Nfield = 1 # Number of fields\n",
    "    Rtol, Atol = 1e-3, 1e-50 # Relative and absolute tolerance of the integrator\n",
    "    Ni, Nf = N_exit - DeltaN, 10 # Sets initial and final time for integration\n",
    "    N = np.linspace(Ni, Nf, 1000) # Define the time array for output correlators\n",
    "\n",
    "    # Initialise the integrator\n",
    "    theo = theory(N = Nspan, Nfield = Nfield, interpolated = interpolated)\n",
    "    \n",
    "    # Solve flow equations\n",
    "    s = solver(Nspan = N, Nfield = Nfield, interpolated = interpolated, Rtol = Rtol, Atol = Atol)\n",
    "    start_time = time.time() # Start recording runtime\n",
    "    f = s.f_solution(k1 = k1, k2 = k2, k3 = k3)\n",
    "    T = time.time() - start_time # Stop time record\n",
    "    \n",
    "    return T"
   ]
  },
  {
   "cell_type": "code",
   "execution_count": 19,
   "id": "d0a68fb6",
   "metadata": {},
   "outputs": [
    {
     "name": "stdout",
     "output_type": "stream",
     "text": [
      "--- 314.80811500549316 seconds ---\n"
     ]
    }
   ],
   "source": [
    "n = 20\n",
    "kappa = np.logspace(-3, 1, n)\n",
    "T = np.zeros(n)\n",
    "\n",
    "start_time = time.time() # Start recording runtime\n",
    "for i in range(n):\n",
    "    T[i] = soft_limit(kappa[i])\n",
    "print(\"--- %s seconds ---\" % (time.time() - start_time)) # Print runtime\n",
    "\n",
    "# Save files\n",
    "np.save(\"kappa.npy\", kappa)\n",
    "np.save(\"RuntimeSoft_1field.npy\", T)"
   ]
  },
  {
   "cell_type": "markdown",
   "id": "1ee8eb9a",
   "metadata": {},
   "source": [
    "The figure is generated in the \"Performances\" notebook in the PhiPsi folder."
   ]
  },
  {
   "cell_type": "markdown",
   "id": "97dacc26",
   "metadata": {},
   "source": [
    "## Convergence"
   ]
  },
  {
   "cell_type": "code",
   "execution_count": 62,
   "id": "5a01df9e",
   "metadata": {},
   "outputs": [],
   "source": [
    "# Define the numerical i\\epsilon prescription\n",
    "def adiabatic_convergence(N_load, DeltaN, N_exit):\n",
    "    return (np.tanh((N_load - N_exit + DeltaN - 0.5)/0.08) + 1)/2\n",
    "\n",
    "def convergence(DeltaN, kappa):\n",
    "    n = 100000 # Number of points for the parameter evaluation\n",
    "    N_load = np.linspace(-10, 20, n) # Time grid array in e-folds for the parameters\n",
    "    \n",
    "    # Kinematic configuration\n",
    "    k = 1 # Mode corresponding to N = 0 horizon exit\n",
    "    k1, k2, k3 = k/kappa, k/kappa, k # Kinematic configuration for 3-pt function\n",
    "    N_exit = 0 # Horizon exit for a mode\n",
    "    \n",
    "    # Theory \n",
    "    g_load = 1 * np.ones(n) * adiabatic_convergence(N_load, DeltaN, N_exit) # Cubic coupling constant\n",
    "    H_load = np.ones(n) # Hubble scale\n",
    "\n",
    "    # Load the parameters and define continuous functions\n",
    "    param = parameters(N_load, H_load, g_load) # Load the class parameters\n",
    "    interpolated = param.output() # Define list with continuous parameters\n",
    "\n",
    "    # Numerical parameters\n",
    "    Nspan = np.linspace(-10, 20, 1000) # Time span in e-folds for the numerical integration\n",
    "    Nfield = 1 # Number of fields\n",
    "    Rtol, Atol = 1e-7, 1e-180 # Relative and absolute tolerance of the integrator\n",
    "    Ni, Nf = N_exit - DeltaN, 10 # Sets initial and final time for integration\n",
    "    N = np.linspace(Ni, Nf, 1000) # Define the time array for output correlators\n",
    "\n",
    "    # Initialise the integrator\n",
    "    theo = theory(N = Nspan, Nfield = Nfield, interpolated = interpolated)\n",
    "    \n",
    "    # Solve flow equations\n",
    "    s = solver(Nspan = N, Nfield = Nfield, interpolated = interpolated, Rtol = Rtol, Atol = Atol)\n",
    "    f = s.f_solution(k1 = k1, k2 = k2, k3 = k3)\n",
    "    \n",
    "    return f[6][0, 0, 0][-1]"
   ]
  },
  {
   "cell_type": "code",
   "execution_count": 63,
   "id": "bd96de3c",
   "metadata": {},
   "outputs": [
    {
     "name": "stdout",
     "output_type": "stream",
     "text": [
      "--- 89.18445205688477 seconds ---\n"
     ]
    }
   ],
   "source": [
    "n = 20\n",
    "DeltaN = np.linspace(2, 5, n)\n",
    "C = np.zeros(n)\n",
    "\n",
    "start_time = time.time() # Start recording runtime\n",
    "for i in range(n):\n",
    "    C[i] = convergence(DeltaN[i], kappa = 1)\n",
    "print(\"--- %s seconds ---\" % (time.time() - start_time)) # Print runtime\n",
    "\n",
    "# Save files\n",
    "np.save(\"DeltaN_convergence.npy\", DeltaN)\n",
    "np.save(\"Convergence_1field_equilateral.npy\", C)"
   ]
  },
  {
   "cell_type": "markdown",
   "id": "3fdcb1ed",
   "metadata": {},
   "source": [
    "The figure is generated in the \"Performances\" notebook in the PhiPsi folder."
   ]
  }
 ],
 "metadata": {
  "kernelspec": {
   "display_name": "Python 3 (ipykernel)",
   "language": "python",
   "name": "python3"
  },
  "language_info": {
   "codemirror_mode": {
    "name": "ipython",
    "version": 3
   },
   "file_extension": ".py",
   "mimetype": "text/x-python",
   "name": "python",
   "nbconvert_exporter": "python",
   "pygments_lexer": "ipython3",
   "version": "3.9.7"
  }
 },
 "nbformat": 4,
 "nbformat_minor": 5
}
