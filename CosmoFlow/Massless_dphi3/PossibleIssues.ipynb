{
 "cells": [
  {
   "cell_type": "markdown",
   "id": "425dbe63",
   "metadata": {},
   "source": [
    "# $\\mathsf{CosmoFlow}$ Possible Issues\n",
    "\n",
    "(and how to solve them)"
   ]
  },
  {
   "cell_type": "markdown",
   "id": "616115cf",
   "metadata": {},
   "source": [
    "<div class=\"alert alert-block alert-info\"> Please reach out to the developers if you have questions! Your questions and feedback are very valuable to us. </div>"
   ]
  },
  {
   "cell_type": "code",
   "execution_count": 1,
   "id": "4f4674ac",
   "metadata": {},
   "outputs": [],
   "source": [
    "# Import the standard Python packages\n",
    "import numpy as np\n",
    "import matplotlib.pyplot as plt\n",
    "\n",
    "# Import CosmoFlow modules (they must be located in the same parent folder as this notebook)\n",
    "from Parameters import parameters\n",
    "from Theory import theory\n",
    "from Solver import solver"
   ]
  },
  {
   "cell_type": "code",
   "execution_count": 2,
   "id": "4b2e3613",
   "metadata": {},
   "outputs": [],
   "source": [
    "# Define the numerical i\\epsilon prescription\n",
    "def adiabatic(N_load, DeltaN):\n",
    "    return (np.tanh((N_load + DeltaN - 1)/0.1) + 1)/2"
   ]
  },
  {
   "cell_type": "markdown",
   "id": "2f1356b4",
   "metadata": {},
   "source": [
    "## Relative Error"
   ]
  },
  {
   "cell_type": "code",
   "execution_count": 3,
   "id": "173f6adb",
   "metadata": {},
   "outputs": [],
   "source": [
    "def relative_error(Rtol):\n",
    "    n = 10000 # Number of points for the parameter evaluation\n",
    "    N_load = np.linspace(-10, 20, n) # Time grid array in e-folds for the parameters\n",
    "    DeltaN = 4 # Number of e-folds before horizon crossing\n",
    "\n",
    "    # Theory \n",
    "    g_load = 1 * np.ones(n) * adiabatic(N_load, DeltaN) # Cubic coupling constant\n",
    "    H_load = np.ones(n) # Hubble scale\n",
    "\n",
    "    # Load the parameters and define continuous functions\n",
    "    param = parameters(N_load, H_load, g_load) # Load the class parameters\n",
    "    interpolated = param.output() # Define list with continuous parameters\n",
    "\n",
    "    # Numerical parameters\n",
    "    Nspan = np.linspace(-10, 20, 1000) # Time span in e-folds for the numerical integration\n",
    "    Nfield = 1 # Number of fields\n",
    "    Rtol, Atol = Rtol, 1e-180 # Relative and absolute tolerance of the integrator\n",
    "    N_exit = 0 # Horizon exit for a mode\n",
    "    Ni, Nf = N_exit - DeltaN, 10 # Sets initial and final time for integration\n",
    "    N = np.linspace(Ni, Nf, 1000) # Define the time array for output correlators\n",
    "\n",
    "    # Initialise the integrator\n",
    "    theo = theory(N = Nspan, Nfield = Nfield, interpolated = interpolated)\n",
    "    \n",
    "    # Kinematic configuration\n",
    "    k = theo.k_mode(N_exit) # Mode corresponding to N = 0 horizon exit\n",
    "    k1, k2, k3 = k, k, k # Kinematic configuration for 3-pt function (here equilateral)\n",
    "    \n",
    "    # Solve flow equations\n",
    "    s = solver(Nspan = N, Nfield = Nfield, interpolated = interpolated, Rtol = Rtol, Atol = Atol)\n",
    "    f = s.f_solution(k1 = k1, k2 = k2, k3 = k3)\n",
    "    \n",
    "    return N, f"
   ]
  },
  {
   "cell_type": "code",
   "execution_count": 4,
   "id": "86ed1c24",
   "metadata": {},
   "outputs": [
    {
     "data": {
      "image/png": "[encoded data removed]",
      "text/plain": [
       "<Figure size 576x288 with 2 Axes>"
      ]
     },
     "metadata": {
      "needs_background": "light"
     },
     "output_type": "display_data"
    }
   ],
   "source": [
    "import matplotlib\n",
    "from IPython.display import set_matplotlib_formats\n",
    "plt.rc('text', usetex=True)\n",
    "plt.rc('text.latex', preamble=r\"\\usepackage{bm}\")\n",
    "\n",
    "# Import figure style\n",
    "plt.style.use('sty2.mplstyle')\n",
    "\n",
    "# Define figure\n",
    "fig = plt.figure()\n",
    "ax = fig.add_subplot()\n",
    "\n",
    "# Axis limits\n",
    "ax.set_xlim([-3, 10])\n",
    "ax.set_ylim([1e-5, 1e5])\n",
    "\n",
    "# Rtol range (in log scale)\n",
    "Rtol_min = -5\n",
    "Rtol_max = -1\n",
    "Rtol_number = 10\n",
    "Rtol = np.logspace(Rtol_min, Rtol_max, Rtol_number)\n",
    "\n",
    "#Initialize min and max value for Rtol\n",
    "norm = matplotlib.colors.Normalize(vmin = (Rtol_min), vmax = (Rtol_max))\n",
    "#Choose a colormap\n",
    "c_m = matplotlib.cm.coolwarm\n",
    "#Initialize the colorbar\n",
    "s_m = matplotlib.cm.ScalarMappable(cmap = c_m, norm = norm)\n",
    "s_m.set_array([])\n",
    "cb = plt.colorbar(s_m, shrink = 0.8)\n",
    "#Colorbar label with position\n",
    "cb.set_label(\"$\\log_{10}(\\\\Delta_r)$\", y = 1.15, rotation = 0, labelpad = -16, fontsize = 15)\n",
    "\n",
    "# Horizon crossing\n",
    "N_exit = 0\n",
    "ax.axvline(x = N_exit, ls = \"dotted\", color = \"lightgray\")\n",
    "\n",
    "#Loop on Rtol values\n",
    "for i in range(Rtol_number - 1, -1, -1):\n",
    "    N, f = relative_error(Rtol[i])\n",
    "    ax.semilogy(N, np.abs(f[6][0, 0, 0]), color = s_m.to_rgba(np.log10(Rtol[i])), alpha = 0.8, ls = \"-\")\n",
    "\n",
    "# Labels\n",
    "ax.set_xlabel(r\"$N$ $e$-folds\")\n",
    "ax.set_ylabel(r\"$\\langle\\varphi_{\\bm{k}_1} \\varphi_{\\bm{k}_2} \\varphi_{\\bm{k}_3}\\rangle'$\")\n",
    "\n",
    "# Save figure\n",
    "plt.savefig('Masslessdphi3_RelativeError.pdf', bbox_inches = \"tight\")"
   ]
  },
  {
   "cell_type": "markdown",
   "id": "ed572005",
   "metadata": {},
   "source": [
    "## Time discretisation"
   ]
  },
  {
   "cell_type": "code",
   "execution_count": 5,
   "id": "a54999b6",
   "metadata": {},
   "outputs": [],
   "source": [
    "def time_discretisation(n_disc, iepsilon):\n",
    "    n_disc = int(n_disc)\n",
    "    n = n_disc # Number of points for the parameter evaluation\n",
    "    N_load = np.linspace(-10, 20, n) # Time grid array in e-folds for the parameters\n",
    "    DeltaN = 4 # Number of e-folds before horizon crossing\n",
    "\n",
    "    # Theory \n",
    "    if iepsilon:\n",
    "        g_load = 1 * np.ones(n) * adiabatic(N_load, DeltaN) # Cubic coupling constant\n",
    "        H_load = np.ones(n) # Hubble scale\n",
    "    else: # Without iepsilon prescription\n",
    "        g_load = 1 * np.ones(n)\n",
    "        H_load = np.ones(n)\n",
    "\n",
    "    # Load the parameters and define continuous functions\n",
    "    param = parameters(N_load, H_load, g_load) # Load the class parameters\n",
    "    interpolated = param.output() # Define list with continuous parameters\n",
    "\n",
    "    # Numerical parameters\n",
    "    Nspan = np.linspace(-10, 20, 1000) # Time span in e-folds for the numerical integration\n",
    "    Nfield = 1 # Number of fields\n",
    "    Rtol, Atol = 1e-3, 1e-180 # Relative and absolute tolerance of the integrator\n",
    "    N_exit = 0 # Horizon exit for a mode\n",
    "    Ni, Nf = N_exit - DeltaN, 10 # Sets initial and final time for integration\n",
    "    N = np.linspace(Ni, Nf, 1000) # Define the time array for output correlators\n",
    "\n",
    "    # Initialise the integrator\n",
    "    theo = theory(N = Nspan, Nfield = Nfield, interpolated = interpolated)\n",
    "    \n",
    "    # Kinematic configuration\n",
    "    k = theo.k_mode(N_exit) # Mode corresponding to N = 0 horizon exit\n",
    "    k1, k2, k3 = k, k, k # Kinematic configuration for 3-pt function (here equilateral)\n",
    "    \n",
    "    # Solve flow equations\n",
    "    s = solver(Nspan = N, Nfield = Nfield, interpolated = interpolated, Rtol = Rtol, Atol = Atol)\n",
    "    f = s.f_solution(k1 = k1, k2 = k2, k3 = k3)\n",
    "    \n",
    "    return N, f"
   ]
  },
  {
   "cell_type": "code",
   "execution_count": 6,
   "id": "78d881a0",
   "metadata": {},
   "outputs": [
    {
     "data": {
      "image/png": "[encoded data removed]",
      "text/plain": [
       "<Figure size 576x288 with 2 Axes>"
      ]
     },
     "metadata": {
      "needs_background": "light"
     },
     "output_type": "display_data"
    }
   ],
   "source": [
    "import matplotlib\n",
    "from IPython.display import set_matplotlib_formats\n",
    "plt.rc('text', usetex=True)\n",
    "plt.rc('text.latex', preamble=r\"\\usepackage{bm}\")\n",
    "\n",
    "# Import figure style\n",
    "plt.style.use('sty2.mplstyle')\n",
    "\n",
    "# Define figure\n",
    "fig = plt.figure()\n",
    "ax = fig.add_subplot()\n",
    "\n",
    "# Axis limits\n",
    "ax.set_xlim([-3, 10])\n",
    "ax.set_ylim([1e-5, 1e5])\n",
    "\n",
    "# n_disc range (in log scale)\n",
    "n_disc_min = 1\n",
    "n_disc_max = 4\n",
    "n_disc_number = 10\n",
    "n_disc = np.logspace(n_disc_min, n_disc_max, n_disc_number)\n",
    "\n",
    "#Initialize min and max value for Rtol\n",
    "norm = matplotlib.colors.Normalize(vmin = n_disc_min, vmax = n_disc_max)\n",
    "#Choose a colormap\n",
    "c_m = matplotlib.cm.coolwarm\n",
    "#Initialize the colorbar\n",
    "s_m = matplotlib.cm.ScalarMappable(cmap = c_m, norm = norm)\n",
    "s_m.set_array([])\n",
    "cb = plt.colorbar(s_m, shrink = 0.8)\n",
    "#Colorbar label with position\n",
    "cb.set_label(\"$\\log_{10}(n_{\\mathrm{disc}})$\", y = 1.15, rotation = 0, labelpad = 0, fontsize = 15)\n",
    "\n",
    "# Horizon crossing\n",
    "N_exit = 0\n",
    "ax.axvline(x = N_exit, ls = \"dotted\", color = \"lightgray\")\n",
    "\n",
    "#Loop on n_disc values\n",
    "for i in range(n_disc_number):\n",
    "    N, f = time_discretisation(n_disc[i], iepsilon = True)\n",
    "    ax.semilogy(N, np.abs(f[6][0, 0, 0]), color = s_m.to_rgba(np.log10(n_disc[i])), alpha = 0.8, ls = \"-\")\n",
    "    \n",
    "N_ieps, f_ieps = time_discretisation(10000, iepsilon = True)\n",
    "N_noieps, f_noieps = time_discretisation(10000, iepsilon = False)\n",
    "ax.semilogy(N, np.abs(f_ieps[6][0, 0, 0]), color = \"k\", alpha = 0.6, ls = \"dotted\", label = \"with $i\\epsilon$\")\n",
    "ax.semilogy(N, np.abs(f_noieps[6][0, 0, 0]), color = \"k\", alpha = 0.6, ls = \"--\", label = \"without $i\\epsilon$\")\n",
    "\n",
    "# Labels\n",
    "ax.set_xlabel(r\"$N$ $e$-folds\")\n",
    "ax.set_ylabel(r\"$\\langle\\varphi_{\\bm{k}_1} \\varphi_{\\bm{k}_2} \\varphi_{\\bm{k}_3}\\rangle'$\")\n",
    "ax.legend(ncol = 2, loc = 1)\n",
    "\n",
    "# Save figure\n",
    "plt.savefig('Masslessdphi3_TimeDiscretisation.pdf', bbox_inches = \"tight\")"
   ]
  },
  {
   "cell_type": "markdown",
   "id": "b0f36c57",
   "metadata": {},
   "source": [
    "## Massless e-folds"
   ]
  },
  {
   "cell_type": "code",
   "execution_count": 7,
   "id": "c56e2b3c",
   "metadata": {},
   "outputs": [],
   "source": [
    "def massless_efolds(DeltaN):\n",
    "    n = 10000 # Number of points for the parameter evaluation\n",
    "    N_load = np.linspace(-10, 20, n) # Time grid array in e-folds for the parameters\n",
    "\n",
    "    # Theory \n",
    "    g_load = 1 * np.ones(n) * adiabatic(N_load, DeltaN) # Cubic coupling constant\n",
    "    H_load = np.ones(n) # Hubble scale\n",
    "\n",
    "    # Load the parameters and define continuous functions\n",
    "    param = parameters(N_load, H_load, g_load) # Load the class parameters\n",
    "    interpolated = param.output() # Define list with continuous parameters\n",
    "\n",
    "    # Numerical parameters\n",
    "    Nspan = np.linspace(-10, 20, 1000) # Time span in e-folds for the numerical integration\n",
    "    Nfield = 1 # Number of fields\n",
    "    Rtol, Atol = 1e-3, 1e-180 # Relative and absolute tolerance of the integrator\n",
    "    N_exit = 0 # Horizon exit for a mode\n",
    "    Ni, Nf = N_exit - DeltaN, 10 # Sets initial and final time for integration\n",
    "    N = np.linspace(Ni, Nf, 1000) # Define the time array for output correlators\n",
    "\n",
    "    # Initialise the integrator\n",
    "    theo = theory(N = Nspan, Nfield = Nfield, interpolated = interpolated)\n",
    "    \n",
    "    # Kinematic configuration\n",
    "    k = theo.k_mode(N_exit) # Mode corresponding to N = 0 horizon exit\n",
    "    k1, k2, k3 = k, k, k # Kinematic configuration for 3-pt function (here equilateral)\n",
    "    \n",
    "    # Solve flow equations\n",
    "    s = solver(Nspan = N, Nfield = Nfield, interpolated = interpolated, Rtol = Rtol, Atol = Atol)\n",
    "    f = s.f_solution(k1 = k1, k2 = k2, k3 = k3)\n",
    "    \n",
    "    return N, f"
   ]
  },
  {
   "cell_type": "code",
   "execution_count": null,
   "id": "bfe77a6d",
   "metadata": {},
   "outputs": [],
   "source": [
    "import matplotlib\n",
    "from IPython.display import set_matplotlib_formats\n",
    "plt.rc('text', usetex=True)\n",
    "plt.rc('text.latex', preamble=r\"\\usepackage{bm}\")\n",
    "\n",
    "# Import figure style\n",
    "plt.style.use('sty2.mplstyle')\n",
    "\n",
    "# Define figure\n",
    "fig = plt.figure()\n",
    "ax = fig.add_subplot()\n",
    "\n",
    "# Axis limits\n",
    "ax.set_xlim([-5, 10])\n",
    "ax.set_ylim([1e-8, 1e8])\n",
    "\n",
    "# n_disc range\n",
    "DeltaN_min = 1\n",
    "DeltaN_max = 5\n",
    "DeltaN_number = 10\n",
    "DeltaN = np.linspace(DeltaN_min, DeltaN_max, DeltaN_number)\n",
    "\n",
    "#Initialize min and max value for Rtol\n",
    "norm = matplotlib.colors.Normalize(vmin = DeltaN_min, vmax = DeltaN_max)\n",
    "#Choose a colormap\n",
    "c_m = matplotlib.cm.coolwarm\n",
    "#Initialize the colorbar\n",
    "s_m = matplotlib.cm.ScalarMappable(cmap = c_m, norm = norm)\n",
    "s_m.set_array([])\n",
    "cb = plt.colorbar(s_m, shrink = 0.8)\n",
    "#Colorbar label with position\n",
    "cb.set_label(\"$\\Delta N$\", y = 1.15, rotation = 0, labelpad = -16, fontsize = 15)\n",
    "\n",
    "# Horizon crossing\n",
    "N_exit = 0\n",
    "ax.axvline(x = N_exit, ls = \"dotted\", color = \"lightgray\")\n",
    "\n",
    "#Loop on DeltaN values\n",
    "for i in range(DeltaN_number):\n",
    "    N, f = massless_efolds(DeltaN[i])\n",
    "    ax.semilogy(N, np.abs(f[6][0, 0, 0]), color = s_m.to_rgba(DeltaN[i]), alpha = 0.8, ls = \"-\")\n",
    "\n",
    "# Labels\n",
    "ax.set_xlabel(r\"$N$ $e$-folds\")\n",
    "ax.set_ylabel(r\"$\\langle\\varphi_{\\bm{k}_1} \\varphi_{\\bm{k}_2} \\varphi_{\\bm{k}_3}\\rangle'$\")\n",
    "\n",
    "# Save figure\n",
    "plt.savefig('Masslessdphi3_MasslessEfolds.pdf', bbox_inches = \"tight\")"
   ]
  },
  {
   "cell_type": "code",
   "execution_count": null,
   "id": "96fcd9d0",
   "metadata": {},
   "outputs": [],
   "source": []
  }
 ],
 "metadata": {
  "kernelspec": {
   "display_name": "Python 3 (ipykernel)",
   "language": "python",
   "name": "python3"
  },
  "language_info": {
   "codemirror_mode": {
    "name": "ipython",
    "version": 3
   },
   "file_extension": ".py",
   "mimetype": "text/x-python",
   "name": "python",
   "nbconvert_exporter": "python",
   "pygments_lexer": "ipython3",
   "version": "3.9.7"
  }
 },
 "nbformat": 4,
 "nbformat_minor": 5
}
