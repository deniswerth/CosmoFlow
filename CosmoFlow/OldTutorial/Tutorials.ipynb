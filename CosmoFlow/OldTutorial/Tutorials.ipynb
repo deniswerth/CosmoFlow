{
 "cells": [
  {
   "cell_type": "markdown",
   "id": "1a0825f5",
   "metadata": {},
   "source": [
    "# $\\mathrm{CosmoFlow}$ Starting Guide"
   ]
  },
  {
   "cell_type": "markdown",
   "id": "25a582ee",
   "metadata": {},
   "source": [
    "Welcome to CosmoFlow!\n",
    "\n",
    "This notebook aims to describe the basic functionalities of the routine <u> CosmoFlow </u> with some simple examples. More detailed information about the method and their use can be found in the paper:\n",
    "\n",
    "[Cosmological Flow of Primordial Correlators (Werth, Pinol, Renaux-Petel 2023)](https://inspirehep.net/literature/2628782)\n",
    "\n",
    "[The Cosmological Flow: a Systematic Approach to Inflationary Correlators (Pinol, Renaux-Petel, Werth 2023)](https://inspirehep.net/literature/2734774)"
   ]
  },
  {
   "cell_type": "markdown",
   "id": "c86dc391",
   "metadata": {},
   "source": [
    "<div class=\"alert alert-block alert-info\"><b>Disclaimer: </b> Please reach out to the developers if you have questions! Your questions and feedback are very valuable to us. </div>"
   ]
  },
  {
   "cell_type": "code",
   "execution_count": 1,
   "id": "b34c3dfa",
   "metadata": {},
   "outputs": [],
   "source": [
    "# Importing the standard Python packages\n",
    "\n",
    "import numpy as np\n",
    "import matplotlib.pyplot as plt\n",
    "import matplotlib\n",
    "plt.rc('text', usetex=True)\n",
    "plt.rc('font', family='serif')\n",
    "import time\n",
    "\n",
    "# Importing the CosmoFlow modules, they must be located in the same parent folder as the tutorial notebook\n",
    "\n",
    "from background_inputs import background_inputs\n",
    "from model import model\n",
    "from solver import solver"
   ]
  },
  {
   "cell_type": "markdown",
   "id": "267ea718",
   "metadata": {},
   "source": [
    "## Getting Started with a Scale-invariant Example"
   ]
  },
  {
   "cell_type": "markdown",
   "id": "4da9795d",
   "metadata": {},
   "source": [
    "The modules are already implemented for the following theory at the level of the inflationary fluctuations\n",
    "\n",
    "\\begin{equation}\n",
    "\\begin{aligned}\n",
    "    \\mathcal{L}/a^3 = &-\\frac{1}{2}\\left[-\\dot{\\pi}_c^2 + c_s^2 \\frac{(\\partial_i \\pi_c)^2}{a^2}\\right] - \\frac{1}{2}\\left[ (\\partial_\\mu \\sigma)^2 + m^2\\sigma^2\\right] + \\rho \\dot{\\pi}_c\\sigma \\\\\n",
    "    & -\\lambda_1\\dot{\\pi}_c\\frac{(\\partial_i \\pi_c)^2}{a^2} - \\lambda_2 \\dot{\\pi}_c^3\n",
    "    -\\mu\\sigma^3 - \\frac{1}{2}\\alpha\\dot{\\pi}_c \\sigma^2 - \\frac{\\kappa_1}{2} \\frac{(\\partial_i \\pi_c)^2}{a^2}\\sigma - \\frac{\\kappa_2}{2}\\dot{\\pi}_c^2\\sigma\\,,\n",
    "\\end{aligned}\n",
    "\\end{equation}\n",
    "where $\\pi_c$ is the canonically normalised Goldstone boson of broken time diffeomorphism invariance. It is related to the curvature perturbation through $\\zeta = -Hc_s^{3/2}f_\\pi^{-2}\\pi_c$ with $f_\\pi^4 \\equiv 2M_{\\text{pl}}^2|\\dot{H}|c_s$. The field $\\sigma$ is a massive scalar field. Note that some coupling constants are dimensionfull. For simplicity, we assume these couplings constant but they can in general depend on time."
   ]
  },
  {
   "cell_type": "markdown",
   "id": "e4769d4b",
   "metadata": {},
   "source": [
    "### Theory Implementation"
   ]
  },
  {
   "cell_type": "markdown",
   "id": "2482e08e",
   "metadata": {},
   "source": [
    "* When defining the couplings of the theory, one can allow for any time dependence. In this case, they are assumed constant for simplicity. All the couplings should therefore be defined as arrays. The module <u> background_inputs </u> will automatically create continuous functions out of the given time dependences.\n",
    "\n",
    "* The couplings are all defined so that they are turned on adiabatically during the subhorizon evolution of the various modes. Hence the presence of <u> tanh </u>."
   ]
  },
  {
   "cell_type": "code",
   "execution_count": 2,
   "id": "3c5e4278",
   "metadata": {},
   "outputs": [],
   "source": [
    "#Function that turns on interactions adiabatically (numerical i\\epsilon prescription) \n",
    "def adiabatic(N_load, DeltaN):\n",
    "    return (np.tanh((N_load + DeltaN - 1)/0.1) + 1)/2"
   ]
  },
  {
   "cell_type": "code",
   "execution_count": 3,
   "id": "25fa901f",
   "metadata": {},
   "outputs": [],
   "source": [
    "n_back = 10000 # number of points for the background\n",
    "N_load = np.linspace(-10, 20, n_back) # time span in efolds (N=0 should be located around horizon crossing of one mode)\n",
    "H_load = np.ones(n_back) # Hubble scale set to unity\n",
    "\n",
    "DeltaN = 5 # number of efolds before horizon crossing\n",
    "\n",
    "# Quadratic theory\n",
    "\n",
    "cs_load   = 1*np.ones(n_back)\n",
    "m_load    = 3*np.ones(n_back)\n",
    "rho_load  = 0.1*np.ones(n_back) * adiabatic(N_load, DeltaN)\n",
    "\n",
    "\n",
    "# Cubic theory\n",
    "\n",
    "lambda1_load = 0*np.ones(n_back) * adiabatic(N_load, DeltaN)\n",
    "lambda2_load = 0*np.ones(n_back) * adiabatic(N_load, DeltaN)\n",
    "mu_load      = 0*np.ones(n_back) * adiabatic(N_load, DeltaN)\n",
    "alpha_load   = 0*np.ones(n_back) * adiabatic(N_load, DeltaN)\n",
    "kappa1_load  = 1*np.ones(n_back) * adiabatic(N_load, DeltaN)\n",
    "kappa2_load  = 0*np.ones(n_back) * adiabatic(N_load, DeltaN)\n",
    "\n",
    "\n",
    "# Loading the background/coupling inputs and constructing continuous functions\n",
    "\n",
    "background = background_inputs(N_load, H_load, cs_load, m_load, rho_load, lambda1_load, lambda2_load, mu_load, alpha_load, kappa1_load, kappa2_load)\n",
    "interpolated = background.output()"
   ]
  },
  {
   "cell_type": "markdown",
   "id": "0e3fa03e",
   "metadata": {},
   "source": [
    "### Numerical Parameters"
   ]
  },
  {
   "cell_type": "code",
   "execution_count": 4,
   "id": "b74644d2",
   "metadata": {},
   "outputs": [],
   "source": [
    "Nspan = np.linspace(-10, 20, 500) # time span in efolds for the numerical integration\n",
    "Nfield = 2 # number of fields\n",
    "Rtol, Atol = [1e-4, 1e-4, 1e-4], [1e-180, 1e-180, 1e-180] # relative and absolute tolerance of the integrator\n",
    "N_exit = 0 # horizon exit for a mode\n",
    "Ni, Nf = N_exit - DeltaN, 20 # sets initial and final efolds for flow equation integration\n",
    "N = np.linspace(Ni, Nf, 1000)"
   ]
  },
  {
   "cell_type": "markdown",
   "id": "1ec38f2b",
   "metadata": {},
   "source": [
    "* The first element of Rtol/Atol corresponds to the precision for the real part of the power spectrum\n",
    "* The second element of Rtol/Atol corresponds to the precision for the imaginary part of the power spectrum\n",
    "* The third element of Rtol/Atol corresponds to the precision for both the power spectra and the bispectra"
   ]
  },
  {
   "cell_type": "code",
   "execution_count": 5,
   "id": "354c2f3b",
   "metadata": {},
   "outputs": [],
   "source": [
    "# Initialising the integrator with the theory and the numerical parameters\n",
    "\n",
    "mdl = model(N = Nspan, Nfield = Nfield, interpolated = interpolated)"
   ]
  },
  {
   "cell_type": "markdown",
   "id": "ddf37168",
   "metadata": {},
   "source": [
    "### Equilateral Momentum Configuration"
   ]
  },
  {
   "cell_type": "code",
   "execution_count": 6,
   "id": "fbb97715",
   "metadata": {},
   "outputs": [],
   "source": [
    "kt = mdl.k_mode(N_exit) # gives the corresponding mode\n",
    "k1, k2, k3 = kt, kt, kt # momentum configuration for the bispectrum (here equilateral)"
   ]
  },
  {
   "cell_type": "code",
   "execution_count": 7,
   "id": "4490dd76",
   "metadata": {},
   "outputs": [
    {
     "name": "stderr",
     "output_type": "stream",
     "text": [
      "/opt/anaconda3/lib/python3.9/site-packages/scipy/integrate/_ivp/common.py:112: RuntimeWarning: invalid value encountered in double_scalars\n",
      "  d2 = norm((f1 - f0) / scale) / h0\n"
     ]
    }
   ],
   "source": [
    "# Integrating the flow equations\n",
    "\n",
    "s = solver(Nspan = N, Nfield = Nfield, interpolated = interpolated, Rtol = Rtol, Atol = Atol)\n",
    "f = s.f_solution(k1 = k1, k2 = k2, k3 = k3)"
   ]
  },
  {
   "cell_type": "markdown",
   "id": "75850768",
   "metadata": {},
   "source": [
    "All correlators are stored in _f[a][b, c, d]_ where\n",
    "\n",
    "* the index _a_ equals 0, 1, 2 for the real part of the two-point correlators of the modes $k_1, k_2, k_3$\n",
    "* the index _a_ equals 3, 4, 5 for the imaginary part of the two-point correlators of the modes $k_1, k_2, k_3$\n",
    "* the index _a_ equals 6 for the three-point correlators\n",
    "* the index _b_ equals 0, 1, 2, 3 for $\\pi_c, \\sigma, p_{\\pi_c}, p_\\sigma$\n",
    "* the index _c_ equals 0, 1, 2, 3 for $\\pi_c, \\sigma, p_{\\pi_c}, p_\\sigma$\n",
    "* the index _d_ equals 0, 1, 2, 3 for $\\pi_c, \\sigma, p_{\\pi_c}, p_\\sigma$ (only for _a_=6)"
   ]
  },
  {
   "cell_type": "code",
   "execution_count": 8,
   "id": "9bdfdb1d",
   "metadata": {},
   "outputs": [],
   "source": [
    "# Extracting all the correlators\n",
    "\n",
    "f1_f1__k1 = f[0][0, 0] # field-field correlator of pi of mode k1\n",
    "f1_f1__k2 = f[1][0, 0] # field-field correlator of pi of mode k2\n",
    "f1_f1__k3 = f[2][0, 0] # field-field correlator of pi of mode k3\n",
    "\n",
    "f2_f2__k1 = f[0][1, 1] # field-field correlator of sigma of mode k1\n",
    "f2_f2__k2 = f[1][1, 1] # field-field correlator of sigma of mode k2\n",
    "f2_f2__k3 = f[2][1, 1] # field-field correlator of sigma of mode k3\n",
    "\n",
    "f1_f2__k1 = f[0][0, 1] # cross field-field correlator of pi and sigma\n",
    "f1_p1__k1 = f[0][0, 2] # cross field-momentum correlator of pi and its conjugate momentum\n",
    "f2_p2__k1 = f[0][1, 3] # cross field-momentum correlator of sigma and its conjugate momentum\n",
    "\n",
    "f1_f1_f1 = f[6][0, 0, 0] # field-field-field correlator of pi\n",
    "f1_f1_f2 = f[6][0, 0, 1] # field-field-field correlator of pi and one sigma\n",
    "f1_f2_f2 = f[6][0, 1, 1] # field-field-field correlator of sigma and one pi\n",
    "f2_f2_f2 = f[6][1, 1, 1] # field-field-field correlator of sigma\n",
    "\n",
    "S = 1/(2*np.pi)**4/((f1_f1__k1[-1]*k1**3/2/np.pi**2 + f1_f1__k2[-1]*k2**3/2/np.pi**2 + f1_f1__k3[-1]*k3**3/2/np.pi**2)/3)**2 * (k1*k2*k3)**2 * f1_f1_f1 # shape function"
   ]
  },
  {
   "cell_type": "code",
   "execution_count": 9,
   "id": "b5d3cf09",
   "metadata": {},
   "outputs": [
    {
     "data": {
      "text/plain": [
       "<matplotlib.legend.Legend at 0x7fa1e0f1b460>"
      ]
     },
     "execution_count": 9,
     "metadata": {},
     "output_type": "execute_result"
    },
    {
     "data": {
      "image/png": "[encoded data removed]",
      "text/plain": [
       "<Figure size 504x216 with 1 Axes>"
      ]
     },
     "metadata": {
      "needs_background": "light"
     },
     "output_type": "display_data"
    }
   ],
   "source": [
    "# Plotting the time evolution of two-point correlators\n",
    "\n",
    "fig = plt.figure(figsize = (7, 3))\n",
    "fig.subplots_adjust(bottom = 0.15)\n",
    "ax = fig.add_subplot(1, 1, 1)\n",
    "ax.tick_params(bottom = \"on\", top = \"on\", left = \"on\", right = \"on\")\n",
    "ax.tick_params(axis = 'both', labelsize = 10)\n",
    "\n",
    "ax.semilogy(N, np.absolute(f1_f1__k1), label = \"$\\langle \\pi_c(k_1) \\pi_c(k_1)\\\\rangle$\", color = \"C0\", alpha = 0.8)\n",
    "ax.semilogy(N, np.absolute(f2_f2__k1), label = \"$\\langle \\sigma(k_1) \\sigma(k_1)\\\\rangle$\", color = \"C1\", alpha = 0.8)\n",
    "ax.semilogy(N, np.absolute(f1_f2__k1), label = \"$\\langle \\pi_c(k_1) \\sigma(k_1)\\\\rangle$\", color = \"C2\", alpha = 0.8)\n",
    "ax.semilogy(N, np.absolute(f1_p1__k1), label = \"$\\langle \\pi_c(k_1) p_{\\pi_c}(k_1)\\\\rangle$\", color = \"C3\", alpha = 0.8)\n",
    "\n",
    "ax.axvline(x = N_exit, ls = \"--\", color = \"gray\", label = \"$k_1\\\\tau\\sim 1$\")\n",
    "ax.set_xlabel(\"$N$\", fontsize = 12)\n",
    "ax.set_ylabel(\"Two-point correlators\", fontsize = 12)\n",
    "ax.legend(frameon = False, ncol = 2)\n",
    "\n",
    "\n"
   ]
  },
  {
   "cell_type": "code",
   "execution_count": 10,
   "id": "f6c83bb3",
   "metadata": {},
   "outputs": [
    {
     "data": {
      "text/plain": [
       "<matplotlib.legend.Legend at 0x7fa1f2d9fdf0>"
      ]
     },
     "execution_count": 10,
     "metadata": {},
     "output_type": "execute_result"
    },
    {
     "data": {
      "image/png": "[encoded data removed]",
      "text/plain": [
       "<Figure size 504x216 with 1 Axes>"
      ]
     },
     "metadata": {
      "needs_background": "light"
     },
     "output_type": "display_data"
    }
   ],
   "source": [
    "# Plotting the time evolution of three-point correlators\n",
    "\n",
    "fig = plt.figure(figsize = (7, 3))\n",
    "fig.subplots_adjust(bottom = 0.15)\n",
    "ax = fig.add_subplot(1, 1, 1)\n",
    "ax.tick_params(bottom = \"on\", top = \"on\", left = \"on\", right = \"on\")\n",
    "ax.tick_params(axis = 'both', labelsize = 10)\n",
    "\n",
    "ax.semilogy(N, np.absolute(S), label = \"$S(k_1, k_2, k_3)$\", color = \"C3\", alpha = 1)\n",
    "\n",
    "ax.semilogy(N, np.absolute(f1_f1_f2), label = \"$\\langle \\pi_c(k_1) \\pi_c(k_2) \\sigma(k_3)\\\\rangle$\", color = \"C1\", alpha = 0.6)\n",
    "ax.semilogy(N, np.absolute(f1_f2_f2), label = \"$\\langle \\pi_c(k_1) \\sigma(k_1) \\sigma(k_3)\\\\rangle$\", color = \"C2\", alpha = 0.6)\n",
    "ax.semilogy(N, np.absolute(f2_f2_f2), label = \"$\\langle \\sigma(k_1) \\sigma(k_2) \\sigma(k_3)\\\\rangle$\", color = \"C4\", alpha = 0.6)\n",
    "\n",
    "ax.axvline(x = N_exit, ls = \"--\", color = \"gray\", label = \"$k_1\\\\tau\\sim 1$\")\n",
    "ax.set_xlabel(\"$N$\", fontsize = 12)\n",
    "ax.set_ylabel(\"Three-point correlators\", fontsize = 12)\n",
    "ax.legend(frameon = False, ncol = 2)\n"
   ]
  },
  {
   "cell_type": "markdown",
   "id": "9491d02c",
   "metadata": {},
   "source": [
    "Only the correlators of $\\pi_c$ remain constant on super-horizon scales, and hence survive until the end of inflation. Correlators of massive degrees of freedom (or conjugate momenta) start to decay while oscillating when they cross the horizon."
   ]
  },
  {
   "cell_type": "markdown",
   "id": "05d3fbc4",
   "metadata": {},
   "source": [
    "### Squeezed Momentum Configuration\n"
   ]
  },
  {
   "cell_type": "code",
   "execution_count": 11,
   "id": "b8cd8421",
   "metadata": {},
   "outputs": [],
   "source": [
    "kappa = 1e-1 # squeezing parameter\n",
    "kt = mdl.k_mode(N_exit) # gives the corresponding mode\n",
    "k1, k2, k3 = kt/kappa, kt/kappa, kt # momentum configuration for the bispectrum"
   ]
  },
  {
   "cell_type": "code",
   "execution_count": 12,
   "id": "7f05778d",
   "metadata": {},
   "outputs": [
    {
     "name": "stderr",
     "output_type": "stream",
     "text": [
      "/opt/anaconda3/lib/python3.9/site-packages/scipy/integrate/_ivp/common.py:112: RuntimeWarning: invalid value encountered in double_scalars\n",
      "  d2 = norm((f1 - f0) / scale) / h0\n"
     ]
    }
   ],
   "source": [
    "# Integrating the flow equations\n",
    "\n",
    "s = solver(Nspan = N, Nfield = Nfield, interpolated = interpolated, Rtol = Rtol, Atol = Atol)\n",
    "f = s.f_solution(k1 = k1, k2 = k2, k3 = k3)"
   ]
  },
  {
   "cell_type": "markdown",
   "id": "70e76f29",
   "metadata": {},
   "source": [
    "The numerical integration can take a few seconds because the integration of the subhorizon time evolution of correlators is computationally expensive."
   ]
  },
  {
   "cell_type": "code",
   "execution_count": 13,
   "id": "04233998",
   "metadata": {},
   "outputs": [],
   "source": [
    "# Extracting all the correlators\n",
    "\n",
    "f1_f1__k1 = f[0][0, 0] # field-field correlator of pi of mode k1\n",
    "f1_f1__k2 = f[1][0, 0] # field-field correlator of pi of mode k2\n",
    "f1_f1__k3 = f[2][0, 0] # field-field correlator of pi of mode k3\n",
    "\n",
    "f1_f1_f1 = f[6][0, 0, 0] # field-field-field correlator of pi\n",
    "\n",
    "S = 1/(2*np.pi)**4/((f1_f1__k1[-1]*k1**3/2/np.pi**2 + f1_f1__k2[-1]*k2**3/2/np.pi**2 + f1_f1__k3[-1]*k3**3/2/np.pi**2)/3)**2 * (k1*k2*k3)**2 * f1_f1_f1 # shape function"
   ]
  },
  {
   "cell_type": "code",
   "execution_count": 14,
   "id": "cbd5b479",
   "metadata": {},
   "outputs": [
    {
     "data": {
      "text/plain": [
       "<matplotlib.legend.Legend at 0x7fa1e0f678e0>"
      ]
     },
     "execution_count": 14,
     "metadata": {},
     "output_type": "execute_result"
    },
    {
     "data": {
      "image/png": "[encoded data removed]",
      "text/plain": [
       "<Figure size 504x216 with 1 Axes>"
      ]
     },
     "metadata": {
      "needs_background": "light"
     },
     "output_type": "display_data"
    }
   ],
   "source": [
    "# Plotting the time evolution of correlators\n",
    "\n",
    "fig = plt.figure(figsize = (7, 3))\n",
    "fig.subplots_adjust(bottom = 0.15)\n",
    "ax = fig.add_subplot(1, 1, 1)\n",
    "ax.tick_params(bottom = \"on\", top = \"on\", left = \"on\", right = \"on\")\n",
    "ax.tick_params(axis = 'both', labelsize = 10)\n",
    "\n",
    "ax.semilogy(N, np.absolute(S), label = \"$S(k_1, k_2, k_3)$\", color = \"C3\", ls = \"-\")\n",
    "\n",
    "ax.semilogy(N, np.absolute(f1_f1__k1), label = \"$\\langle \\pi_c(k_1) \\pi_c(k_1) \\\\rangle$\", color = \"C0\", alpha = 0.5, ls = \"-\")\n",
    "ax.semilogy(N, np.absolute(f1_f1__k2), label = \"$\\langle \\pi_c(k_2) \\pi_c(k_2) \\\\rangle$\", color = \"C1\", alpha = 0.5, ls = \"-\")\n",
    "ax.semilogy(N, np.absolute(f1_f1__k3), label = \"$\\langle \\pi_c(k_3) \\pi_c(k_3) \\\\rangle$\", color = \"C2\", alpha = 0.5, ls = \"-\")\n",
    "\n",
    "ax.axvline(x = N_exit, ls = \"dotted\", color = \"gray\", label = \"$k_3\\\\tau\\sim 1$\")\n",
    "ax.axvline(x = -np.log(kappa), ls = \"dotted\", color = \"k\", label = \"$k_1\\\\tau\\sim 1$\")\n",
    "ax.set_xlabel(\"$N$\", fontsize = 12)\n",
    "ax.set_ylabel(\"Correlators\", fontsize = 12)\n",
    "ax.legend(frameon = False, ncol = 2)\n"
   ]
  },
  {
   "cell_type": "markdown",
   "id": "2bf71541",
   "metadata": {},
   "source": [
    "The modes $k_3$ exit the horizon before the modes $k_1$ and $k_2$."
   ]
  },
  {
   "cell_type": "markdown",
   "id": "cd80f0ba",
   "metadata": {},
   "source": [
    "# Time-dependent Couplings"
   ]
  },
  {
   "cell_type": "markdown",
   "id": "6dff3f05",
   "metadata": {},
   "source": [
    "We provide the reader with an example where the quadratic coupling has some non-trivial time dependence of the form\n",
    "\n",
    "\\begin{equation}\n",
    "    \\rho(t) = \\rho_0 \\left(a/a_0\\right)^{-3/2} \\sin[\\omega_c(t-t_0)] \\times \\frac{1}{2}\\left[1+\\tanh\\left(\\frac{t-t_0}{\\Delta t}\\right)\\right] \\,.\n",
    "\\end{equation}\n",
    "We only compute the power spectrum but not the bispectrum, although its shape and scale dependence can be easily computed too."
   ]
  },
  {
   "cell_type": "markdown",
   "id": "8e595c7b",
   "metadata": {},
   "source": [
    "<div class=\"alert alert-block alert-warning\"><b>Warning: </b> Computing the power spectrum or the bispectrum for several momentum configurations i.e. doing multiple integration of the flow equations is computationally very expensive. The following cells might take a minute to run. </div>"
   ]
  },
  {
   "cell_type": "code",
   "execution_count": 15,
   "id": "bd3e35d2",
   "metadata": {},
   "outputs": [],
   "source": [
    "# Importing tqdm for integration step visualisation\n",
    "\n",
    "from tqdm import tqdm "
   ]
  },
  {
   "cell_type": "code",
   "execution_count": 16,
   "id": "e947e8ca",
   "metadata": {},
   "outputs": [],
   "source": [
    "n_back = 10000 # number of points for the background\n",
    "N_load = np.linspace(-20, 20, n_back) # time span in efolds (N=0 should be located around horizon crossing of one mode)\n",
    "H_load = np.ones(n_back) # Hubble scale set to unity\n",
    "\n",
    "\n",
    "# Quadratic theory\n",
    "\n",
    "cs_load   = 1*np.ones(n_back)\n",
    "m_load    = 3*np.ones(n_back)\n",
    "\n",
    "\n",
    "# Feature at N=0\n",
    "delta_rho0 = 20 # amplitude of the feature\n",
    "n = 3/2 # decay of the feature\n",
    "wc = 0.1 # frequency of the oscillatory feature\n",
    "rho_load = delta_rho0 * np.exp(-n*N_load) * np.sin(wc*N_load) * (np.tanh((N_load)/0.1) + 1)/2\n",
    "\n",
    "\n",
    "# Cubic theory\n",
    "\n",
    "lambda1_load = 1*np.ones(n_back) * (np.tanh((N_load + 4)/0.1) + 1)/2\n",
    "lambda2_load = 0*np.ones(n_back) * (np.tanh((N_load + 4)/0.1) + 1)/2\n",
    "mu_load      = 0*np.ones(n_back) * (np.tanh((N_load + 4)/0.1) + 1)/2\n",
    "alpha_load   = 0*np.ones(n_back) * (np.tanh((N_load + 4)/0.1) + 1)/2\n",
    "kappa1_load  = 0*np.ones(n_back) * (np.tanh((N_load + 4)/0.1) + 1)/2\n",
    "kappa2_load  = 0*np.ones(n_back) * (np.tanh((N_load + 4)/0.1) + 1)/2\n",
    "\n",
    "\n",
    "# Loading the background/coupling inputs and constructing continuous functions\n",
    "\n",
    "background = background_inputs(N_load, H_load, cs_load, m_load, rho_load, lambda1_load, lambda2_load, mu_load, alpha_load, kappa1_load, kappa2_load)\n",
    "interpolated = background.output()"
   ]
  },
  {
   "cell_type": "code",
   "execution_count": 17,
   "id": "3edaba8f",
   "metadata": {},
   "outputs": [
    {
     "name": "stderr",
     "output_type": "stream",
     "text": [
      " 75%|███████████████████████████████▌          | 75/100 [02:31<00:22,  1.10it/s]/opt/anaconda3/lib/python3.9/site-packages/scipy/integrate/_ivp/common.py:112: RuntimeWarning: invalid value encountered in double_scalars\n",
      "  d2 = norm((f1 - f0) / scale) / h0\n",
      "100%|█████████████████████████████████████████| 100/100 [02:42<00:00,  1.63s/it]\n"
     ]
    }
   ],
   "source": [
    "kfeature = 1 # the corresponding k of the feature\n",
    "n_points = 100\n",
    "N_efolds = np.linspace(-3, 3, n_points)\n",
    "\n",
    "k = np.zeros(n_points) # k span\n",
    "P = np.zeros(n_points) # dimensionless power spectrum.\n",
    "\n",
    "for i in tqdm(range(n_points)):\n",
    "    N_exit = N_efolds[i]\n",
    "    DeltaN = 3.5 # number of efolds before horizon crossing\n",
    "\n",
    "    #background = background_inputs(N_load, H_load, cs_load, m_load, rho_load, lambda1_load, lambda2_load, mu_load, alpha_load, kappa1_load, kappa2_load)\n",
    "    #interpolated = background.output()\n",
    "\n",
    "    Nspan = np.linspace(-20, 20, 1000)\n",
    "    Nfield = 2\n",
    "    Rtol, Atol = [1e-4, 1e-4, 1e-4], [1e-180, 1e-180, 1e-180]\n",
    "    mdl = model(N = Nspan, Nfield = Nfield, interpolated = interpolated)\n",
    "\n",
    "    kt = mdl.k_mode(N_exit)\n",
    "    Ni, Nf = N_exit - DeltaN, 20 # sets initial and final efolds for flow equation integration\n",
    "    N = np.linspace(Ni, Nf, 1000)\n",
    "    \n",
    "    try:\n",
    "        s = solver(Nspan = N, Nfield = Nfield, interpolated = interpolated, Rtol = Rtol, Atol = Atol)\n",
    "        SigmaAB = s.SigmaAB_solution(k = kt, part = \"Re\")\n",
    "        k[i] = kt\n",
    "        P[i] = SigmaAB[0, 0][-1] * kt**3/2/np.pi**2\n",
    "    except:\n",
    "        k[i] = kt\n",
    "        P[i] = 0"
   ]
  },
  {
   "cell_type": "code",
   "execution_count": 18,
   "id": "98ab8797",
   "metadata": {},
   "outputs": [
    {
     "data": {
      "text/plain": [
       "Text(0, 0.5, 'Power Spectrum')"
      ]
     },
     "execution_count": 18,
     "metadata": {},
     "output_type": "execute_result"
    },
    {
     "data": {
      "image/png": "[encoded data removed]",
      "text/plain": [
       "<Figure size 504x216 with 1 Axes>"
      ]
     },
     "metadata": {
      "needs_background": "light"
     },
     "output_type": "display_data"
    }
   ],
   "source": [
    "# Plotting the dimensionless power spectrum\n",
    "\n",
    "fig = plt.figure(figsize = (7, 3))\n",
    "fig.subplots_adjust(bottom = 0.15)\n",
    "ax = fig.add_subplot(1, 1, 1)\n",
    "ax.tick_params(bottom = \"on\", top = \"on\", left = \"on\", right = \"on\")\n",
    "ax.tick_params(axis = 'both', labelsize = 10)\n",
    "\n",
    "ax.semilogx(k, P, ls = \"-\", alpha = 1, color = \"C3\", linewidth = 2)\n",
    "ax.set_xlim(np.min(k), np.max(k))\n",
    "ax.set_xlabel(\"$k/k_0$\", fontsize = 15)\n",
    "ax.set_ylabel(\"Power Spectrum\", fontsize = 15)"
   ]
  },
  {
   "cell_type": "code",
   "execution_count": null,
   "id": "5263acae",
   "metadata": {},
   "outputs": [],
   "source": []
  }
 ],
 "metadata": {
  "kernelspec": {
   "display_name": "Python 3 (ipykernel)",
   "language": "python",
   "name": "python3"
  },
  "language_info": {
   "codemirror_mode": {
    "name": "ipython",
    "version": 3
   },
   "file_extension": ".py",
   "mimetype": "text/x-python",
   "name": "python",
   "nbconvert_exporter": "python",
   "pygments_lexer": "ipython3",
   "version": "3.9.7"
  }
 },
 "nbformat": 4,
 "nbformat_minor": 5
}
