{
 "cells": [
  {
   "cell_type": "markdown",
   "id": "be957ae6",
   "metadata": {},
   "source": [
    "# $\\mathsf{CosmoFlow}$ Phase Diagram"
   ]
  },
  {
   "cell_type": "markdown",
   "id": "ecc36e86",
   "metadata": {},
   "source": [
    "<div class=\"alert alert-block alert-info\"> Please reach out to the developers if you have questions! Your questions and feedback are very valuable to us. </div>"
   ]
  },
  {
   "cell_type": "code",
   "execution_count": 1,
   "id": "8fd231ae",
   "metadata": {},
   "outputs": [],
   "source": [
    "# Import the standard Python packages\n",
    "import numpy as np\n",
    "import matplotlib.pyplot as plt\n",
    "from tqdm import tqdm # Display a bar for loops\n",
    "\n",
    "# Import CosmoFlow modules (they must be located in the same parent folder as this notebook)\n",
    "from Parameters import parameters\n",
    "from Theory import theory\n",
    "from Solver import solver"
   ]
  },
  {
   "cell_type": "code",
   "execution_count": 2,
   "id": "b401a0ec",
   "metadata": {},
   "outputs": [],
   "source": [
    "# Define the numerical i\\epsilon prescription\n",
    "def adiabatic(N_load, DeltaN):\n",
    "    return (np.tanh((N_load + DeltaN - 1)/0.1) + 1)/2"
   ]
  },
  {
   "cell_type": "code",
   "execution_count": 3,
   "id": "b41e8df3",
   "metadata": {},
   "outputs": [],
   "source": [
    "def phase_diagram(m, rho):\n",
    "    n = 10000 # Number of points for the parameter evaluation\n",
    "    N_load = np.linspace(-10, 20, n) # Time grid array in e-folds for the parameters\n",
    "    DeltaN = 4.5 # Number of e-folds before horizon crossing\n",
    "    \n",
    "    # Theory \n",
    "    H_load = np.ones(n) # Hubble scale\n",
    "    cs_load = 1 * np.ones(n) # Speed of sound for phi\n",
    "    m_load = m * np.ones(n) # Mass of Psi\n",
    "    rho_load = rho * np.ones(n) * adiabatic(N_load, DeltaN) # Linear mixing strength\n",
    "    lambda1_load = 1 * np.ones(n) * adiabatic(N_load, DeltaN) # Single-exchange coupling\n",
    "    lambda2_load = 0 * np.ones(n) * adiabatic(N_load, DeltaN) # Double-exchange coupling\n",
    "    lambda3_load = 0 * np.ones(n) * adiabatic(N_load, DeltaN) # Triple-exchange coupling\n",
    "    \n",
    "    # Load the parameters and define continuous functions\n",
    "    param = parameters(N_load, H_load, cs_load, m_load, rho_load, lambda1_load, lambda2_load, lambda3_load) # Load the class parameters\n",
    "    interpolated = param.output() # Define list with continuous parameters\n",
    "\n",
    "    # Numerical parameters\n",
    "    Nspan = np.linspace(-10, 20, 1000) # Time span in e-folds for the numerical integration\n",
    "    Nfield = 2 # Number of fields\n",
    "    Rtol, Atol = 1e-4, 1e-180 # Relative and absolute tolerance of the integrator\n",
    "    N_exit = 0 # Horizon exit for a mode\n",
    "    Ni, Nf = N_exit - DeltaN, 5 # Sets initial and final time for integration\n",
    "    N = np.linspace(Ni, Nf, 1000) # Define the time array for output correlators\n",
    "\n",
    "    # Initialise the integrator\n",
    "    theo = theory(N = Nspan, Nfield = Nfield, interpolated = interpolated)\n",
    "    \n",
    "    k = theo.k_mode(N_exit) # Mode corresponding to N = 0 horizon exit\n",
    "    k1, k2, k3 = k, k, k # Kinematic configuration for 3-pt function (here equilateral)\n",
    "    \n",
    "    s = solver(Nspan = N, Nfield = Nfield, interpolated = interpolated, Rtol = Rtol, Atol = Atol)\n",
    "    f = s.f_solution(k1 = k1, k2 = k2, k3 = k3)\n",
    "    \n",
    "    two_pt = f[0][0, 0][-1]\n",
    "    three_pt = f[6][0, 0, 0][-1]\n",
    "    return two_pt, three_pt"
   ]
  },
  {
   "cell_type": "code",
   "execution_count": 12,
   "id": "f0cbe5d2",
   "metadata": {},
   "outputs": [
    {
     "name": "stdout",
     "output_type": "stream",
     "text": [
      "--- 1131.2174088954926 seconds ---\n"
     ]
    }
   ],
   "source": [
    "from joblib import Parallel, delayed # Needed for parallelisation\n",
    "import time # Record the running time\n",
    "\n",
    "n_pt = 50\n",
    "m = np.logspace(-1, 1, n_pt)\n",
    "rho = np.logspace(-1, 1, n_pt)\n",
    "\n",
    "def process(i):\n",
    "    two_pt = []\n",
    "    three_pt = []\n",
    "    for j in range(n_pt):\n",
    "        C2, C3 = phase_diagram(m = m[i], rho = rho[j])\n",
    "        two_pt.append(C2)\n",
    "        three_pt.append(C3)\n",
    "    return two_pt, three_pt\n",
    "\n",
    "start_time = time.time() # Start recording runtime\n",
    "X = Parallel(n_jobs = 6)(delayed(process)(i) for i in range(n_pt)) # n_jobs is the number of cores\n",
    "print(\"--- %s seconds ---\" % (time.time() - start_time)) # Print runtime\n",
    "\n",
    "# Define 2D arrays for correlators\n",
    "two_pt = np.ones((n_pt, n_pt))\n",
    "three_pt = np.ones((n_pt, n_pt))\n",
    "\n",
    "# Reconstructing correlators from the parallelisation output\n",
    "for i in range(n_pt):\n",
    "    for j in range(n_pt):\n",
    "        two_pt[i, j] = X[i][0][j]\n",
    "        three_pt[i, j] = X[i][1][j]\n",
    "        \n",
    "# Save files\n",
    "np.save(\"two_pt.npy\", two_pt)\n",
    "np.save(\"three_pt.npy\", three_pt)"
   ]
  },
  {
   "cell_type": "code",
   "execution_count": 13,
   "id": "d9101408",
   "metadata": {},
   "outputs": [
    {
     "name": "stderr",
     "output_type": "stream",
     "text": [
      "/var/folders/2k/k567rdsx46v7_3gsyc4f07xm0000gp/T/ipykernel_52182/565628938.py:22: MatplotlibDeprecationWarning: shading='flat' when X and Y have the same dimensions as C is deprecated since 3.3.  Either specify the corners of the quadrilaterals with X and Y, or pass shading='auto', 'nearest' or 'gouraud', or set rcParams['pcolor.shading'].  This will become an error two minor releases later.\n",
      "  im = ax.pcolormesh(X, Y, np.transpose(TwoPt), cmap = \"coolwarm\")\n"
     ]
    },
    {
     "data": {
      "image/png": "[encoded data removed]",
      "text/plain": [
       "<Figure size 432x360 with 2 Axes>"
      ]
     },
     "metadata": {
      "needs_background": "light"
     },
     "output_type": "display_data"
    }
   ],
   "source": [
    "import matplotlib\n",
    "from matplotlib import cm\n",
    "from pylab import contour, clabel\n",
    "plt.rc('text.latex', preamble=r\"\\usepackage{bm}\")\n",
    "\n",
    "# Import figure style\n",
    "plt.style.use('sty1.mplstyle')\n",
    "\n",
    "# Define figure\n",
    "fig = plt.figure()\n",
    "ax = fig.add_subplot()\n",
    "\n",
    "ax.set_xscale(\"log\")\n",
    "ax.set_yscale(\"log\")\n",
    "\n",
    "ax.set_xlim((np.min(m), np.max(m)))\n",
    "ax.set_ylim((np.min(rho), np.max(rho)))\n",
    "\n",
    "X, Y = np.meshgrid(m, rho)\n",
    "TwoPt = np.load(\"two_pt.npy\")\n",
    "\n",
    "im = ax.pcolormesh(X, Y, np.transpose(TwoPt), cmap = \"coolwarm\")\n",
    "cb = plt.colorbar(im, shrink = 0.8)\n",
    "cb.set_ticks([1, 3, 5])\n",
    "ax.set_xlabel(\"$m/H$\")\n",
    "ax.set_ylabel(\"$\\\\rho/H$\")\n",
    "ax.set_title(r\"$\\langle\\varphi_{\\bm{k}_1} \\varphi_{\\bm{k}_2}\\rangle'$\", y = 1.05)\n",
    "\n",
    "# Save figure\n",
    "plt.savefig('TwoPt_PhaseDiagram.pdf', bbox_inches = \"tight\")"
   ]
  },
  {
   "cell_type": "code",
   "execution_count": 14,
   "id": "fda86a5e",
   "metadata": {},
   "outputs": [
    {
     "name": "stderr",
     "output_type": "stream",
     "text": [
      "/var/folders/2k/k567rdsx46v7_3gsyc4f07xm0000gp/T/ipykernel_52182/3357149695.py:22: MatplotlibDeprecationWarning: shading='flat' when X and Y have the same dimensions as C is deprecated since 3.3.  Either specify the corners of the quadrilaterals with X and Y, or pass shading='auto', 'nearest' or 'gouraud', or set rcParams['pcolor.shading'].  This will become an error two minor releases later.\n",
      "  im = ax.pcolormesh(X, Y, np.transpose(ThreePt)/10, cmap = \"coolwarm\")\n"
     ]
    },
    {
     "data": {
      "image/png": "[encoded data removed]",
      "text/plain": [
       "<Figure size 432x360 with 2 Axes>"
      ]
     },
     "metadata": {
      "needs_background": "light"
     },
     "output_type": "display_data"
    }
   ],
   "source": [
    "import matplotlib\n",
    "from matplotlib import cm\n",
    "from pylab import contour, clabel\n",
    "plt.rc('text.latex', preamble=r\"\\usepackage{bm}\")\n",
    "\n",
    "# Import figure style\n",
    "plt.style.use('sty1.mplstyle')\n",
    "\n",
    "# Define figure\n",
    "fig = plt.figure()\n",
    "ax = fig.add_subplot()\n",
    "\n",
    "ax.set_xscale(\"log\")\n",
    "ax.set_yscale(\"log\")\n",
    "\n",
    "ax.set_xlim((np.min(m), np.max(m)))\n",
    "ax.set_ylim((np.min(rho), np.max(rho)))\n",
    "\n",
    "X, Y = np.meshgrid(m, rho)\n",
    "ThreePt = np.load(\"three_pt.npy\")\n",
    "\n",
    "im = ax.pcolormesh(X, Y, np.transpose(ThreePt)/10, cmap = \"coolwarm\")\n",
    "cb = plt.colorbar(im, shrink = 0.8)\n",
    "cb.set_label(\"$\\\\times 10$\", fontsize = 15, rotation = 0, y = 1.12, labelpad = -15)\n",
    "cb.set_ticks([0, 1, 2])\n",
    "ax.set_xlabel(\"$m/H$\")\n",
    "ax.set_ylabel(\"$\\\\rho/H$\")\n",
    "ax.set_title(r\"$\\langle\\varphi_{\\bm{k}_1} \\varphi_{\\bm{k}_2} \\varphi_{\\bm{k}_3}\\rangle'$\", y = 1.05)\n",
    "\n",
    "# Save figure\n",
    "plt.savefig('ThreePt_PhaseDiagram.pdf', bbox_inches = \"tight\")"
   ]
  },
  {
   "cell_type": "code",
   "execution_count": null,
   "id": "6824b4a7",
   "metadata": {},
   "outputs": [],
   "source": []
  }
 ],
 "metadata": {
  "kernelspec": {
   "display_name": "Python 3 (ipykernel)",
   "language": "python",
   "name": "python3"
  },
  "language_info": {
   "codemirror_mode": {
    "name": "ipython",
    "version": 3
   },
   "file_extension": ".py",
   "mimetype": "text/x-python",
   "name": "python",
   "nbconvert_exporter": "python",
   "pygments_lexer": "ipython3",
   "version": "3.9.7"
  }
 },
 "nbformat": 4,
 "nbformat_minor": 5
}
