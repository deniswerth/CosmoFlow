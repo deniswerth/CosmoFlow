{
 "cells": [
  {
   "cell_type": "markdown",
   "id": "b6f05be2",
   "metadata": {},
   "source": [
    "# $\\mathrm{CosmoFlow}$ : Single-Field Non-Local EFT"
   ]
  },
  {
   "cell_type": "markdown",
   "id": "88138163",
   "metadata": {},
   "source": [
    "In this notebook (and the associated code), we implement the Cosmological Flow of a general single-field non-local theory of a scalar field in de Sitter. If one is not interested in non-analytic signals lying in soft limits of cosmological correlators (known as cosmological collider signals) arising from the exchange of a massive particle, all scalar correlators can be well described by the following effective theory for the low-energy mode : \n",
    "\n",
    "\\begin{equation}\n",
    "    \\begin{aligned}\n",
    "    \\mathcal{L}/a^3 &= \\frac{1}{2}\\dot{\\varphi} \\,[1 + \\rho^2\\mathcal{D}^{-1}]\\, \\dot{\\varphi} - \\frac{c_s^2}{2}\\,(\\tilde{\\partial}_i \\varphi)^2 - \\lambda_1 \\,\\dot{\\varphi}\\,(\\tilde{\\partial}_i \\varphi)^2 - \\lambda_2 \\dot{\\varphi}^3 - \\lambda_3\\, (\\tilde{\\partial}_i \\varphi)^2\\, \\mathcal{D}^{-1} \\dot{\\varphi} - \\lambda_4\\, \\dot{\\varphi}^2\\mathcal{D}^{-1}\\dot{\\varphi} - \\lambda_5\\, \\dot{\\varphi}[\\mathcal{D}^{-1}\\dot{\\varphi}]^2 - \\lambda_6\\, [\\mathcal{D}^{-1}\\dot{\\varphi}]^3\\,,\n",
    "    \\end{aligned}\n",
    "\\end{equation}\n",
    "\n",
    "where $\\mathcal{D}^{-1} = (-\\tilde{\\partial}_i^2 + m^2)^{-1}$ is a non-local differential operator, $\\tilde{\\partial}_i = \\partial_i/a$ with $a(t)$ being the scale factor, and $\\lambda_i, \\rho, m$ are coupling constants. We allow the field $\\varphi$ to have an intrinsic speed of sound $c_s$. Such theory typically arises when a heavy field quadratically and cubically coupled to $\\varphi$ has been integrated out. More details about this non-local theory (and partial UV completion) can be found in [Jazayeri et al. 2023](https://inspirehep.net/literature/2674409) and [Pinol et al. 2023](https://inspirehep.net/literature/2734774) (see also [Werth et al. 2023](https://inspirehep.net/literature/2628782) for an introduction to the Cosmological Flow). This non-local theory becomes local in the limit of a large mass $m$. This theory accuratly captures all \"background\" equilateralish signals. \n",
    "\n",
    "<div class=\"alert alert-block alert-info\"> Please reach out to the developers if you have questions ! Your questions and feedback are very valuable to us. </div>"
   ]
  },
  {
   "cell_type": "code",
   "execution_count": 1,
   "id": "0dc715af",
   "metadata": {},
   "outputs": [],
   "source": [
    "#Importing the standard Python packages\n",
    "import numpy as np\n",
    "import matplotlib.pyplot as plt\n",
    "plt.rc('text', usetex = True)\n",
    "plt.rc('font', family = 'serif')"
   ]
  },
  {
   "cell_type": "code",
   "execution_count": 2,
   "id": "baf289b0",
   "metadata": {},
   "outputs": [],
   "source": [
    "#Importing CosmoFlow\n",
    "from background_inputs import background_inputs\n",
    "from model import model\n",
    "from solver import solver"
   ]
  },
  {
   "cell_type": "code",
   "execution_count": 3,
   "id": "29e7c804",
   "metadata": {},
   "outputs": [],
   "source": [
    "#Function that turns on interactions adiabatically (numerical i\\epsilon prescription) \n",
    "def adiabatic(N_load, DeltaN):\n",
    "    return (np.tanh((N_load + DeltaN - 1)/0.1) + 1)/2"
   ]
  },
  {
   "cell_type": "markdown",
   "id": "e41a053d",
   "metadata": {},
   "source": [
    "<div class=\"alert alert-block alert-warning\"> Solving the flow equations need the numerical parameters n_back, DeltaN, Rtol, and Atol. Be sure to find balance between numerical precision (increasing n_back and rtol) and speed (decreasing DeltaN and rtol). The parameters set in this notebook were found to match both criteria. </div>"
   ]
  },
  {
   "cell_type": "markdown",
   "id": "a0af5706",
   "metadata": {},
   "source": [
    "### Single Run for 2- and 3-pt Functions for a given Kinematic Configuration"
   ]
  },
  {
   "cell_type": "code",
   "execution_count": 6,
   "id": "37804f88",
   "metadata": {},
   "outputs": [],
   "source": [
    "n_back = 50000 #Number of points for the background\n",
    "N_load = np.linspace(-10, 500, n_back) #Array on which the flow equations are solved\n",
    "H_load = np.ones(n_back) #Hubble scale set to unity\n",
    "\n",
    "#Number of efolds before horizon crossing\n",
    "DeltaN = 5\n",
    "\n",
    "#Squeezing parameter (k_long/k_short)\n",
    "kappa = 1\n",
    "\n",
    "#Quadratic theory\n",
    "cs_load   = 1*np.ones(n_back)\n",
    "m_load    = 1*np.ones(n_back)\n",
    "rho_load  = 10*np.ones(n_back) * adiabatic(N_load, DeltaN)\n",
    "\n",
    "#Cubic theory\n",
    "lambda1_load = 1*np.ones(n_back) * adiabatic(N_load, DeltaN)\n",
    "lambda2_load = 0*np.ones(n_back) * adiabatic(N_load, DeltaN)\n",
    "lambda3_load = 0*np.ones(n_back) * adiabatic(N_load, DeltaN)\n",
    "lambda4_load = 0*np.ones(n_back) * adiabatic(N_load, DeltaN)\n",
    "lambda5_load = 0*np.ones(n_back) * adiabatic(N_load, DeltaN)\n",
    "lambda6_load = 0*np.ones(n_back) * adiabatic(N_load, DeltaN)\n",
    "\n",
    "#Setting up the flow equations\n",
    "background = background_inputs(N_load, H_load, cs_load, m_load, rho_load, lambda1_load, lambda2_load, lambda3_load, lambda4_load, lambda5_load, lambda6_load)\n",
    "interpolated = background.output()\n",
    "\n",
    "#Numerical parameters for the flow equations\n",
    "Nspan = np.linspace(-10, 20, 500)\n",
    "Rtol, Atol = [1e-5, 1e-5, 1e-5], [1e-80, 1e-80, 1e-80]\n",
    "mdl = model(N = Nspan, interpolated = interpolated)\n",
    "\n",
    "#Kinematic configuration\n",
    "N_exit = 0\n",
    "kt = mdl.k_mode(N_exit)\n",
    "k1, k2, k3 = kt/kappa, kt/kappa, kt\n",
    "\n",
    "#Solving flow equations\n",
    "Ni, Nf = N_exit - DeltaN, 20 # Sets initial and final efolds for transport equation integration\n",
    "N = np.linspace(Ni, Nf, 1000)\n",
    "s = solver(Nspan = N, interpolated = interpolated, Rtol = Rtol, Atol = Atol)\n",
    "f = s.f_solution(k1 = k1, k2 = k2, k3 = k3)\n",
    "    "
   ]
  },
  {
   "cell_type": "markdown",
   "id": "44a478f5",
   "metadata": {},
   "source": [
    "### Display Cosmological Flow of all 2- and 3-pt Functions"
   ]
  },
  {
   "cell_type": "code",
   "execution_count": 7,
   "id": "440023c7",
   "metadata": {},
   "outputs": [
    {
     "data": {
      "image/png": "[encoded data removed]",
      "text/plain": [
       "<Figure size 432x288 with 1 Axes>"
      ]
     },
     "metadata": {
      "needs_background": "light"
     },
     "output_type": "display_data"
    }
   ],
   "source": [
    "# Two-point functions\n",
    "\n",
    "plt.semilogy(N, np.absolute(f[0][0, 0]), label = \"$\\\\varphi \\\\varphi$\")\n",
    "plt.semilogy(N, np.absolute(f[0][0, 1]), label = \"$\\\\varphi p_{\\\\varphi}$\")\n",
    "plt.semilogy(N, np.absolute(f[0][1, 1]), label = \"$p_{\\\\varphi} p_{\\\\varphi}$\")\n",
    "\n",
    "#Three-point functions\n",
    "\n",
    "plt.semilogy(N, np.absolute(f[6][0, 0, 0]), label = \"$\\\\varphi \\\\varphi \\\\varphi$\")\n",
    "plt.semilogy(N, np.absolute(f[6][0, 0, 1]), label = \"$\\\\varphi \\\\varphi p$\")\n",
    "plt.semilogy(N, np.absolute(f[6][0, 1, 1]), label = \"$\\\\varphi p p$\")\n",
    "plt.semilogy(N, np.absolute(f[6][1, 1, 1]), label = \"$p p p$\")\n",
    "\n",
    "\n",
    "plt.xlabel(\"$N$\", fontsize = 15)\n",
    "plt.ylim(1e-15, 1e15)\n",
    "plt.xlim(N[0], N[-1])\n",
    "\n",
    "if rho_load[-1] < m_load[-1]: #weak mixing\n",
    "    plt.axvline(x = np.log(cs_load[0]*kt/H_load[-1]), ls = \"--\", color = \"grey\", label = \"$c_s |k\\\\tau| \\sim 1$\")\n",
    "if rho_load[-1] > m_load[-1]: #strong mixing\n",
    "    plt.axvline(x = np.log(kt/H_load[-1]/np.sqrt(rho_load[-1]/cs_load[0])), ls = \"--\", color = \"grey\", label = \"$c_s^{1/2}|k\\\\tau| \\sim \\sqrt{\\\\rho/H}$\")\n",
    "\n",
    "plt.legend(frameon = False, ncol = 2)\n",
    "plt.grid(False)"
   ]
  },
  {
   "cell_type": "markdown",
   "id": "490b0d62",
   "metadata": {},
   "source": [
    "- The module $\\mathrm{squeezed.py}$ contains the function that evaluates the shape function (as defined in [Pinol et al. 2023](https://inspirehep.net/literature/2734774) Eq.(6.1) for the field $\\varphi$), for a given array $\\kappa$ ($=k_{\\text{long}}/k_{\\text{short}}$) in the isosceles-triangle configuration. \n",
    "\n",
    "- The module $\\mathrm{SqueezedRun.py}$ is the code to execute once the theory and the numerical paramaters in $\\mathrm{squeezed.py}$ have been selected. Careful, such run is very long !\n",
    "\n",
    "- The module $\\mathrm{mpi\\_main.py}$ enables to parallelise the code when scanning the soft limit of cosmological correlators. Use the command line >mpiexec -n # python mpi_main.py to execute the code, where # is the number of cores"
   ]
  }
 ],
 "metadata": {
  "kernelspec": {
   "display_name": "Python 3 (ipykernel)",
   "language": "python",
   "name": "python3"
  },
  "language_info": {
   "codemirror_mode": {
    "name": "ipython",
    "version": 3
   },
   "file_extension": ".py",
   "mimetype": "text/x-python",
   "name": "python",
   "nbconvert_exporter": "python",
   "pygments_lexer": "ipython3",
   "version": "3.9.7"
  }
 },
 "nbformat": 4,
 "nbformat_minor": 5
}
